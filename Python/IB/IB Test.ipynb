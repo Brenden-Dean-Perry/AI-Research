{
 "cells": [
  {
   "cell_type": "code",
   "execution_count": 16,
   "id": "initial_id",
   "metadata": {
    "collapsed": true,
    "ExecuteTime": {
     "end_time": "2023-12-16T21:01:53.197342100Z",
     "start_time": "2023-12-16T21:01:50.507549800Z"
    }
   },
   "outputs": [
    {
     "name": "stdout",
     "output_type": "stream",
     "text": [
      "<Response [200]>\n",
      "{\"accounts\":[\"All\",\"U11894290\",\"U13511906\",\"U13512073\"],\"acctProps\":{\"All\":{\"hasChildAccounts\":false,\"supportsCashQty\":false,\"supportsFractions\":false},\"U11894290\":{\"hasChildAccounts\":false,\"supportsCashQty\":true,\"noFXConv\":false,\"isProp\":false,\"supportsFractions\":true,\"allowCustomerTime\":false},\"U13512073\":{\"hasChildAccounts\":false,\"supportsCashQty\":true,\"noFXConv\":false,\"isProp\":false,\"supportsFractions\":true,\"allowCustomerTime\":false},\"U13511906\":{\"hasChildAccounts\":false,\"supportsCashQty\":true,\"noFXConv\":false,\"isProp\":false,\"supportsFractions\":true,\"allowCustomerTime\":false}},\"aliases\":{\"All\":\"All\",\"U11894290\":\"Brokerage\",\"U13512073\":\"Roth IRA\",\"U13511906\":\"Traditional IRA\"},\"allowFeatures\":{\"showGFIS\":true,\"showEUCostReport\":false,\"allowEventContract\":true,\"allowFXConv\":true,\"allowFinancialLens\":false,\"allowMTA\":false,\"allowTypeAhead\":true,\"allowEventTrading\":true,\"snapshotRefreshTimeout\":30,\"liteUser\":false,\"showWebNews\":true,\"research\":true,\"debugPnl\":true,\"showTaxOpt\":true,\"showImpactDashboard\":true,\"allowDynAccount\":false,\"allowCrypto\":true,\"allowedAssetTypes\":\"STK,CFD,OPT,FOP,WAR,FUT,BAG,PDC,CASH,IND,BOND,BILL,FUND,SLB,News,CMDTY,IOPT,ICU,ICS,PHYSS,CRYPTO\"},\"chartPeriods\":{\"STK\":[\"*\"],\"CFD\":[\"*\"],\"OPT\":[\"2h\",\"1d\",\"2d\",\"1w\",\"1m\"],\"FOP\":[\"2h\",\"1d\",\"2d\",\"1w\",\"1m\"],\"WAR\":[\"*\"],\"IOPT\":[\"*\"],\"FUT\":[\"*\"],\"CASH\":[\"*\"],\"IND\":[\"*\"],\"BOND\":[\"*\"],\"FUND\":[\"*\"],\"CMDTY\":[\"*\"],\"PHYSS\":[\"*\"],\"CRYPTO\":[\"*\"]},\"groups\":[\"All\"],\"profiles\":[],\"selectedAccount\":\"All\",\"serverInfo\":{\"serverName\":\"JifN19062\",\"serverVersion\":\"Build 10.25.0p, Dec 5, 2023 5:48:12 PM\"},\"sessionId\":\"657d60d2.0000003a\",\"isFT\":false,\"isPaper\":false}\n"
     ]
    }
   ],
   "source": [
    "import requests\n",
    "import urllib3\n",
    "\n",
    "urllib3.disable_warnings()\n",
    "\n",
    "def confirmation():\n",
    "    base_url = \"https://localhost:5000/v1/api/\"\n",
    "    endpoint = \"iserver/auth/status\"\n",
    "    \n",
    "    auth_req = requests.get(url=base_url+endpoint, verify=False)\n",
    "    print(auth_req)\n",
    "    print(auth_req.text)\n",
    "\n",
    "if __name__== \"__main__\":\n",
    "    confirmation()"
   ]
  },
  {
   "cell_type": "code",
   "execution_count": 27,
   "outputs": [
    {
     "name": "stdout",
     "output_type": "stream",
     "text": [
      "<Response [200]>\n",
      "{\"session\":\"813a13bc4934db6cf5879c6bc8839381\",\"ssoExpires\":140338,\"collission\":false,\"userId\":51495173,\"hmds\":{\"error\":\"no bridge\"},\"iserver\":{\"authStatus\":{\"authenticated\":true,\"competing\":false,\"connected\":true,\"message\":\"\",\"MAC\":\"98:F2:B3:23:AE:D0\",\"serverInfo\":{\"serverName\":\"JifN19062\",\"serverVersion\":\"Build 10.25.0p, Dec 5, 2023 5:48:12 PM\"},\"hardware_info\":\"33c1fd7d|98:F2:B3:23:AE:D0\"}}}\n"
     ]
    }
   ],
   "source": [
    "#tickle is recommended to be run every 1min to ensure connectivity. Will be timed out after 5 minutes.\n",
    "def tickle():\n",
    "    base_url = \"https://localhost:5000/v1/api/\"\n",
    "    endpoint = \"tickle\"\n",
    "\n",
    "    auth_req = requests.get(url=base_url+endpoint, verify=False)\n",
    "    print(auth_req)\n",
    "    print(auth_req.text)\n",
    "\n",
    "if __name__== \"__main__\":\n",
    "    tickle()"
   ],
   "metadata": {
    "collapsed": false,
    "ExecuteTime": {
     "end_time": "2023-12-16T21:39:34.416083300Z",
     "start_time": "2023-12-16T21:39:32.035567500Z"
    }
   },
   "id": "ef960c34a333063c"
  },
  {
   "cell_type": "code",
   "execution_count": null,
   "outputs": [],
   "source": [
    "#tickle is recommended to be run every 1min to ensure connectivity. Will be timed out after 5 minutes.\n",
    "def logout():\n",
    "    base_url = \"https://localhost:5000/v1/api/\"\n",
    "    endpoint = \"logout\"\n",
    "\n",
    "    auth_req = requests.get(url=base_url+endpoint, verify=False)\n",
    "    print(auth_req)\n",
    "    print(auth_req.text)\n",
    "\n",
    "if __name__== \"__main__\":\n",
    "    #logout()\n",
    "    pass"
   ],
   "metadata": {
    "collapsed": false
   },
   "id": "6b7ea7ca5911de5a"
  },
  {
   "cell_type": "code",
   "execution_count": 18,
   "outputs": [
    {
     "name": "stdout",
     "output_type": "stream",
     "text": [
      "<Response [200]>\n",
      "{\"accounts\":[\"All\",\"U11894290\",\"U13511906\",\"U13512073\"],\"acctProps\":{\"All\":{\"hasChildAccounts\":false,\"supportsCashQty\":false,\"supportsFractions\":false},\"U11894290\":{\"hasChildAccounts\":false,\"supportsCashQty\":true,\"noFXConv\":false,\"isProp\":false,\"supportsFractions\":true,\"allowCustomerTime\":false},\"U13512073\":{\"hasChildAccounts\":false,\"supportsCashQty\":true,\"noFXConv\":false,\"isProp\":false,\"supportsFractions\":true,\"allowCustomerTime\":false},\"U13511906\":{\"hasChildAccounts\":false,\"supportsCashQty\":true,\"noFXConv\":false,\"isProp\":false,\"supportsFractions\":true,\"allowCustomerTime\":false}},\"aliases\":{\"All\":\"All\",\"U11894290\":\"Brokerage\",\"U13512073\":\"Roth IRA\",\"U13511906\":\"Traditional IRA\"},\"allowFeatures\":{\"showGFIS\":true,\"showEUCostReport\":false,\"allowEventContract\":true,\"allowFXConv\":true,\"allowFinancialLens\":false,\"allowMTA\":false,\"allowTypeAhead\":true,\"allowEventTrading\":true,\"snapshotRefreshTimeout\":30,\"liteUser\":false,\"showWebNews\":true,\"research\":true,\"debugPnl\":true,\"showTaxOpt\":true,\"showImpactDashboard\":true,\"allowDynAccount\":false,\"allowCrypto\":true,\"allowedAssetTypes\":\"STK,CFD,OPT,FOP,WAR,FUT,BAG,PDC,CASH,IND,BOND,BILL,FUND,SLB,News,CMDTY,IOPT,ICU,ICS,PHYSS,CRYPTO\"},\"chartPeriods\":{\"STK\":[\"*\"],\"CFD\":[\"*\"],\"OPT\":[\"2h\",\"1d\",\"2d\",\"1w\",\"1m\"],\"FOP\":[\"2h\",\"1d\",\"2d\",\"1w\",\"1m\"],\"WAR\":[\"*\"],\"IOPT\":[\"*\"],\"FUT\":[\"*\"],\"CASH\":[\"*\"],\"IND\":[\"*\"],\"BOND\":[\"*\"],\"FUND\":[\"*\"],\"CMDTY\":[\"*\"],\"PHYSS\":[\"*\"],\"CRYPTO\":[\"*\"]},\"groups\":[\"All\"],\"profiles\":[],\"selectedAccount\":\"All\",\"serverInfo\":{\"serverName\":\"JifN19062\",\"serverVersion\":\"Build 10.25.0p, Dec 5, 2023 5:48:12 PM\"},\"sessionId\":\"657d60d2.0000003a\",\"isFT\":false,\"isPaper\":false}\n"
     ]
    }
   ],
   "source": [
    "def getaccountinfo():\n",
    "    base_url = \"https://localhost:5000/v1/api/\"\n",
    "    endpoint = \"iserver/accounts\"\n",
    "\n",
    "    auth_req = requests.get(url=base_url+endpoint, verify=False)\n",
    "    print(auth_req)\n",
    "    print(auth_req.text)\n",
    "\n",
    "if __name__== \"__main__\":\n",
    "    getaccountinfo()"
   ],
   "metadata": {
    "collapsed": false,
    "ExecuteTime": {
     "end_time": "2023-12-16T21:13:53.779581500Z",
     "start_time": "2023-12-16T21:13:51.371074700Z"
    }
   },
   "id": "673454cc69b86485"
  },
  {
   "cell_type": "code",
   "execution_count": 19,
   "outputs": [
    {
     "name": "stdout",
     "output_type": "stream",
     "text": [
      "<Response [200]>\n",
      "{\"id\":\"U11894290\",\"PrepaidCrypto-Z\":false,\"PrepaidCrypto-P\":false,\"brokerageAccess\":false,\"accountId\":\"U11894290\",\"accountVan\":\"Brokerage\",\"accountTitle\":\"Brenden Perry\",\"displayName\":\"Brenden Perry\",\"accountAlias\":\"Brokerage\",\"accountStatus\":1682395200000,\"currency\":\"USD\",\"type\":\"INDIVIDUAL\",\"tradingType\":\"STKNOPT\",\"businessType\":\"INDEPENDENT\",\"ibEntity\":\"IBLLC-US\",\"faclient\":false,\"clearingStatus\":\"O\",\"covestor\":false,\"noClientTrading\":false,\"trackVirtualFXPortfolio\":false,\"parent\":{\"mmc\":[],\"accountId\":\"\",\"isMParent\":false,\"isMChild\":false,\"isMultiplex\":false},\"desc\":\"U11894290 - Brokerage\"}\n"
     ]
    }
   ],
   "source": [
    "#Meta info\n",
    "def getaccountmetainfo():\n",
    "    base_url = \"https://localhost:5000/v1/api/\"\n",
    "    accountId = \"U11894290\"\n",
    "    endpoint = \"portfolio/\" + accountId + \"/meta\"\n",
    "\n",
    "    auth_req = requests.get(url=base_url+endpoint, verify=False)\n",
    "    print(auth_req)\n",
    "    print(auth_req.text)\n",
    "\n",
    "if __name__== \"__main__\":\n",
    "    getaccountmetainfo()"
   ],
   "metadata": {
    "collapsed": false,
    "ExecuteTime": {
     "end_time": "2023-12-16T21:19:35.022158400Z",
     "start_time": "2023-12-16T21:19:32.734403600Z"
    }
   },
   "id": "fee84daacb4bca1a"
  },
  {
   "cell_type": "code",
   "execution_count": 20,
   "outputs": [
    {
     "name": "stdout",
     "output_type": "stream",
     "text": [
      "<Response [200]>\n",
      "{\"accountcode\":{\"amount\":0.0,\"currency\":null,\"isNull\":false,\"timestamp\":1702761611000,\"value\":\"U11894290\",\"severity\":0},\"accountready\":{\"amount\":0.0,\"currency\":null,\"isNull\":false,\"timestamp\":1702761611000,\"value\":\"true\",\"severity\":0},\"accounttype\":{\"amount\":0.0,\"currency\":null,\"isNull\":false,\"timestamp\":1702761611000,\"value\":\"INDIVIDUAL\",\"severity\":0},\"accruedcash\":{\"amount\":17.979999542236328,\"currency\":\"USD\",\"isNull\":false,\"timestamp\":1702761611000,\"value\":null,\"severity\":0},\"accruedcash-s\":{\"amount\":17.979999542236328,\"currency\":\"USD\",\"isNull\":false,\"timestamp\":1702761611000,\"value\":null,\"severity\":0},\"accrueddividend\":{\"amount\":0.0,\"currency\":\"USD\",\"isNull\":false,\"timestamp\":1702761611000,\"value\":null,\"severity\":0},\"accrueddividend-s\":{\"amount\":0.0,\"currency\":\"USD\",\"isNull\":false,\"timestamp\":1702761611000,\"value\":null,\"severity\":0},\"availablefunds\":{\"amount\":87000.0,\"currency\":\"USD\",\"isNull\":false,\"timestamp\":1702761611000,\"value\":null,\"severity\":0},\"availablefunds-s\":{\"amount\":87000.0,\"currency\":\"USD\",\"isNull\":false,\"timestamp\":1702761611000,\"value\":null,\"severity\":0},\"billable\":{\"amount\":0.0,\"currency\":\"USD\",\"isNull\":false,\"timestamp\":1702761611000,\"value\":null,\"severity\":0},\"billable-s\":{\"amount\":0.0,\"currency\":\"USD\",\"isNull\":false,\"timestamp\":1702761611000,\"value\":null,\"severity\":0},\"buyingpower\":{\"amount\":348000.0,\"currency\":\"USD\",\"isNull\":false,\"timestamp\":1702761611000,\"value\":null,\"severity\":0},\"columnprio-s\":{\"amount\":0.0,\"currency\":null,\"isNull\":false,\"timestamp\":1702761611000,\"value\":\"1\",\"severity\":0},\"cushion\":{\"amount\":0.0,\"currency\":null,\"isNull\":false,\"timestamp\":1702761611000,\"value\":\"1\",\"severity\":0},\"daytradesremaining\":{\"amount\":0.0,\"currency\":null,\"isNull\":false,\"timestamp\":1702761611000,\"value\":\"-1\",\"severity\":0},\"daytradesremainingt+1\":{\"amount\":0.0,\"currency\":null,\"isNull\":false,\"timestamp\":1702761611000,\"value\":\"-1\",\"severity\":0},\"daytradesremainingt+2\":{\"amount\":0.0,\"currency\":null,\"isNull\":false,\"timestamp\":1702761611000,\"value\":\"-1\",\"severity\":0},\"daytradesremainingt+3\":{\"amount\":0.0,\"currency\":null,\"isNull\":false,\"timestamp\":1702761611000,\"value\":\"-1\",\"severity\":0},\"daytradesremainingt+4\":{\"amount\":0.0,\"currency\":null,\"isNull\":false,\"timestamp\":1702761611000,\"value\":\"-1\",\"severity\":0},\"daytradingstatus-s\":{\"amount\":0.0,\"currency\":null,\"isNull\":false,\"timestamp\":1702761611000,\"value\":\"::false:87000.00:\",\"severity\":0},\"depositoncredithold\":{\"amount\":0.0,\"currency\":null,\"isNull\":false,\"timestamp\":1702761611000,\"value\":\"null\",\"severity\":0},\"equitywithloanvalue\":{\"amount\":87000.0,\"currency\":\"USD\",\"isNull\":false,\"timestamp\":1702761611000,\"value\":null,\"severity\":0},\"equitywithloanvalue-s\":{\"amount\":87000.0,\"currency\":\"USD\",\"isNull\":false,\"timestamp\":1702761611000,\"value\":null,\"severity\":0},\"excessliquidity\":{\"amount\":87000.0,\"currency\":\"USD\",\"isNull\":false,\"timestamp\":1702761611000,\"value\":null,\"severity\":0},\"excessliquidity-s\":{\"amount\":87000.0,\"currency\":\"USD\",\"isNull\":false,\"timestamp\":1702761611000,\"value\":null,\"severity\":0},\"fullavailablefunds\":{\"amount\":87000.0,\"currency\":\"USD\",\"isNull\":false,\"timestamp\":1702761611000,\"value\":null,\"severity\":0},\"fullavailablefunds-s\":{\"amount\":87000.0,\"currency\":\"USD\",\"isNull\":false,\"timestamp\":1702761611000,\"value\":null,\"severity\":0},\"fullexcessliquidity\":{\"amount\":87000.0,\"currency\":\"USD\",\"isNull\":false,\"timestamp\":1702761611000,\"value\":null,\"severity\":0},\"fullexcessliquidity-s\":{\"amount\":87000.0,\"currency\":\"USD\",\"isNull\":false,\"timestamp\":1702761611000,\"value\":null,\"severity\":0},\"fullinitmarginreq\":{\"amount\":0.0,\"currency\":\"USD\",\"isNull\":false,\"timestamp\":1702761611000,\"value\":null,\"severity\":0},\"fullinitmarginreq-s\":{\"amount\":0.0,\"currency\":\"USD\",\"isNull\":false,\"timestamp\":1702761611000,\"value\":null,\"severity\":0},\"fullmaintmarginreq\":{\"amount\":0.0,\"currency\":\"USD\",\"isNull\":false,\"timestamp\":1702761611000,\"value\":null,\"severity\":0},\"fullmaintmarginreq-s\":{\"amount\":0.0,\"currency\":\"USD\",\"isNull\":false,\"timestamp\":1702761611000,\"value\":null,\"severity\":0},\"grosspositionvalue\":{\"amount\":0.0,\"currency\":\"USD\",\"isNull\":false,\"timestamp\":1702761611000,\"value\":null,\"severity\":0},\"grosspositionvalue-s\":{\"amount\":0.0,\"currency\":\"USD\",\"isNull\":false,\"timestamp\":1702761611000,\"value\":null,\"severity\":0},\"guarantee\":{\"amount\":0.0,\"currency\":\"USD\",\"isNull\":false,\"timestamp\":1702761611000,\"value\":null,\"severity\":0},\"guarantee-s\":{\"amount\":0.0,\"currency\":\"USD\",\"isNull\":false,\"timestamp\":1702761611000,\"value\":null,\"severity\":0},\"highestseverity\":{\"amount\":0.0,\"currency\":null,\"isNull\":false,\"timestamp\":1702761611000,\"value\":\"null\",\"severity\":0},\"indianstockhaircut\":{\"amount\":0.0,\"currency\":\"USD\",\"isNull\":false,\"timestamp\":1702761611000,\"value\":null,\"severity\":0},\"indianstockhaircut-s\":{\"amount\":0.0,\"currency\":\"USD\",\"isNull\":false,\"timestamp\":1702761611000,\"value\":null,\"severity\":0},\"initmarginreq\":{\"amount\":0.0,\"currency\":\"USD\",\"isNull\":false,\"timestamp\":1702761611000,\"value\":null,\"severity\":0},\"initmarginreq-s\":{\"amount\":0.0,\"currency\":\"USD\",\"isNull\":false,\"timestamp\":1702761611000,\"value\":null,\"severity\":0},\"leverage-s\":{\"amount\":0.0,\"currency\":null,\"isNull\":false,\"timestamp\":1702761611000,\"value\":\"0.0\",\"severity\":0},\"lookaheadavailablefunds\":{\"amount\":87000.0,\"currency\":\"USD\",\"isNull\":false,\"timestamp\":1702761611000,\"value\":null,\"severity\":0},\"lookaheadavailablefunds-s\":{\"amount\":87000.0,\"currency\":\"USD\",\"isNull\":false,\"timestamp\":1702761611000,\"value\":null,\"severity\":0},\"lookaheadexcessliquidity\":{\"amount\":87000.0,\"currency\":\"USD\",\"isNull\":false,\"timestamp\":1702761611000,\"value\":null,\"severity\":0},\"lookaheadexcessliquidity-s\":{\"amount\":87000.0,\"currency\":\"USD\",\"isNull\":false,\"timestamp\":1702761611000,\"value\":null,\"severity\":0},\"lookaheadinitmarginreq\":{\"amount\":0.0,\"currency\":\"USD\",\"isNull\":false,\"timestamp\":1702761611000,\"value\":null,\"severity\":0},\"lookaheadinitmarginreq-s\":{\"amount\":0.0,\"currency\":\"USD\",\"isNull\":false,\"timestamp\":1702761611000,\"value\":null,\"severity\":0},\"lookaheadmaintmarginreq\":{\"amount\":0.0,\"currency\":\"USD\",\"isNull\":false,\"timestamp\":1702761611000,\"value\":null,\"severity\":0},\"lookaheadmaintmarginreq-s\":{\"amount\":0.0,\"currency\":\"USD\",\"isNull\":false,\"timestamp\":1702761611000,\"value\":null,\"severity\":0},\"lookaheadnextchange\":{\"amount\":0.0,\"currency\":null,\"isNull\":false,\"timestamp\":1702761611000,\"value\":\"0\",\"severity\":0},\"maintmarginreq\":{\"amount\":0.0,\"currency\":\"USD\",\"isNull\":false,\"timestamp\":1702761611000,\"value\":null,\"severity\":0},\"maintmarginreq-s\":{\"amount\":0.0,\"currency\":\"USD\",\"isNull\":false,\"timestamp\":1702761611000,\"value\":null,\"severity\":0},\"netliquidation\":{\"amount\":87017.9765625,\"currency\":\"USD\",\"isNull\":false,\"timestamp\":1702761611000,\"value\":null,\"severity\":0},\"netliquidation-s\":{\"amount\":87017.9765625,\"currency\":\"USD\",\"isNull\":false,\"timestamp\":1702761611000,\"value\":null,\"severity\":0},\"netliquidationuncertainty\":{\"amount\":0.0,\"currency\":\"USD\",\"isNull\":false,\"timestamp\":1702761611000,\"value\":null,\"severity\":0},\"nlvandmargininreview\":{\"amount\":0.0,\"currency\":null,\"isNull\":false,\"timestamp\":1702761611000,\"value\":\"false\",\"severity\":0},\"pasharesvalue\":{\"amount\":0.0,\"currency\":\"USD\",\"isNull\":false,\"timestamp\":1702761611000,\"value\":null,\"severity\":0},\"pasharesvalue-s\":{\"amount\":0.0,\"currency\":\"USD\",\"isNull\":false,\"timestamp\":1702761611000,\"value\":null,\"severity\":0},\"physicalcertificatevalue\":{\"amount\":0.0,\"currency\":\"USD\",\"isNull\":false,\"timestamp\":1702761611000,\"value\":null,\"severity\":0},\"physicalcertificatevalue-s\":{\"amount\":0.0,\"currency\":\"USD\",\"isNull\":false,\"timestamp\":1702761611000,\"value\":null,\"severity\":0},\"postexpirationexcess\":{\"amount\":0.0,\"currency\":\"USD\",\"isNull\":false,\"timestamp\":1702761611000,\"value\":null,\"severity\":0},\"postexpirationexcess-s\":{\"amount\":0.0,\"currency\":\"USD\",\"isNull\":false,\"timestamp\":1702761611000,\"value\":null,\"severity\":0},\"postexpirationmargin\":{\"amount\":0.0,\"currency\":\"USD\",\"isNull\":false,\"timestamp\":1702761611000,\"value\":null,\"severity\":0},\"postexpirationmargin-s\":{\"amount\":0.0,\"currency\":\"USD\",\"isNull\":false,\"timestamp\":1702761611000,\"value\":null,\"severity\":0},\"previousdayequitywithloanvalue\":{\"amount\":87000.0,\"currency\":\"USD\",\"isNull\":false,\"timestamp\":1702761611000,\"value\":null,\"severity\":0},\"previousdayequitywithloanvalue-s\":{\"amount\":87000.0,\"currency\":\"USD\",\"isNull\":false,\"timestamp\":1702761611000,\"value\":null,\"severity\":0},\"regtequity\":{\"amount\":87017.9765625,\"currency\":\"USD\",\"isNull\":false,\"timestamp\":1702761611000,\"value\":null,\"severity\":0},\"regtequity-s\":{\"amount\":87017.9765625,\"currency\":\"USD\",\"isNull\":false,\"timestamp\":1702761611000,\"value\":null,\"severity\":0},\"regtmargin\":{\"amount\":0.0,\"currency\":\"USD\",\"isNull\":false,\"timestamp\":1702761611000,\"value\":null,\"severity\":0},\"regtmargin-s\":{\"amount\":0.0,\"currency\":\"USD\",\"isNull\":false,\"timestamp\":1702761611000,\"value\":null,\"severity\":0},\"segmenttitle-s\":{\"amount\":0.0,\"currency\":null,\"isNull\":false,\"timestamp\":1702761611000,\"value\":\"US Securities\",\"severity\":0},\"sma\":{\"amount\":87017.9765625,\"currency\":\"USD\",\"isNull\":false,\"timestamp\":1702761611000,\"value\":null,\"severity\":0},\"sma-s\":{\"amount\":87017.9765625,\"currency\":\"USD\",\"isNull\":false,\"timestamp\":1702761611000,\"value\":null,\"severity\":0},\"totalcashvalue\":{\"amount\":87000.0,\"currency\":\"USD\",\"isNull\":false,\"timestamp\":1702761611000,\"value\":null,\"severity\":0},\"totalcashvalue-s\":{\"amount\":87000.0,\"currency\":\"USD\",\"isNull\":false,\"timestamp\":1702761611000,\"value\":null,\"severity\":0},\"totaldebitcardpendingcharges\":{\"amount\":0.0,\"currency\":\"USD\",\"isNull\":false,\"timestamp\":1702761611000,\"value\":null,\"severity\":0},\"totaldebitcardpendingcharges-s\":{\"amount\":0.0,\"currency\":\"USD\",\"isNull\":false,\"timestamp\":1702761611000,\"value\":null,\"severity\":0},\"tradingtype-s\":{\"amount\":0.0,\"currency\":null,\"isNull\":false,\"timestamp\":1702761611000,\"value\":\"STKNOPT\",\"severity\":0},\"whatifpmenabled\":{\"amount\":0.0,\"currency\":null,\"isNull\":false,\"timestamp\":1702761611000,\"value\":\"true\",\"severity\":0}}\n"
     ]
    }
   ],
   "source": [
    "#summary info\n",
    "def getaccountsummary():\n",
    "    base_url = \"https://localhost:5000/v1/api/\"\n",
    "    accountId = \"U11894290\"\n",
    "    endpoint = \"portfolio/\" + accountId + \"/summary\"\n",
    "\n",
    "    auth_req = requests.get(url=base_url+endpoint, verify=False)\n",
    "    print(auth_req)\n",
    "    print(auth_req.text)\n",
    "\n",
    "if __name__== \"__main__\":\n",
    "    getaccountsummary()"
   ],
   "metadata": {
    "collapsed": false,
    "ExecuteTime": {
     "end_time": "2023-12-16T21:20:11.201576800Z",
     "start_time": "2023-12-16T21:20:08.789070Z"
    }
   },
   "id": "23313ce8fde28050"
  },
  {
   "cell_type": "code",
   "execution_count": 21,
   "outputs": [
    {
     "name": "stdout",
     "output_type": "stream",
     "text": [
      "<Response [200]>\n",
      "{\"assetClass\":{\"long\":{\"CASH\":87000.0},\"short\":{}},\"sector\":{\"long\":{},\"short\":{}},\"group\":{\"long\":{},\"short\":{}}}\n"
     ]
    }
   ],
   "source": [
    "#account allocation\n",
    "def getaccountallocation():\n",
    "    base_url = \"https://localhost:5000/v1/api/\"\n",
    "    accountId = \"U11894290\"\n",
    "    endpoint = \"portfolio/\" + accountId + \"/allocation\"\n",
    "\n",
    "    auth_req = requests.get(url=base_url+endpoint, verify=False)\n",
    "    print(auth_req)\n",
    "    print(auth_req.text)\n",
    "\n",
    "if __name__== \"__main__\":\n",
    "    getaccountallocation()"
   ],
   "metadata": {
    "collapsed": false,
    "ExecuteTime": {
     "end_time": "2023-12-16T21:23:12.994801500Z",
     "start_time": "2023-12-16T21:23:10.016596500Z"
    }
   },
   "id": "9195ac084342d657"
  },
  {
   "cell_type": "code",
   "execution_count": 22,
   "outputs": [
    {
     "name": "stdout",
     "output_type": "stream",
     "text": [
      "<Response [200]>\n",
      "[]\n"
     ]
    }
   ],
   "source": [
    "#account trades\n",
    "def getaccounttrades():\n",
    "    base_url = \"https://localhost:5000/v1/api/\"\n",
    "    endpoint = \"iserver/account/trades\"\n",
    "\n",
    "    auth_req = requests.get(url=base_url+endpoint, verify=False)\n",
    "    print(auth_req)\n",
    "    print(auth_req.text)\n",
    "\n",
    "if __name__== \"__main__\":\n",
    "    getaccounttrades()"
   ],
   "metadata": {
    "collapsed": false,
    "ExecuteTime": {
     "end_time": "2023-12-16T21:27:28.960018100Z",
     "start_time": "2023-12-16T21:27:26.692736500Z"
    }
   },
   "id": "5276697681367593"
  },
  {
   "cell_type": "code",
   "execution_count": 24,
   "outputs": [
    {
     "name": "stdout",
     "output_type": "stream",
     "text": [
      "<Response [200]>\n",
      "[]\n"
     ]
    }
   ],
   "source": [
    "#account positions\n",
    "def getaccountpositions():\n",
    "    base_url = \"https://localhost:5000/v1/api/\"\n",
    "    accountId = \"U11894290\"\n",
    "    pageid = 1 #defaults to 30 positions per page\n",
    "    endpoint = \"portfolio/\" + accountId + \"/positions/\" + str(pageid)\n",
    "\n",
    "    auth_req = requests.get(url=base_url+endpoint, verify=False)\n",
    "    print(auth_req)\n",
    "    print(auth_req.text)\n",
    "\n",
    "if __name__== \"__main__\":\n",
    "    getaccountpositions()"
   ],
   "metadata": {
    "collapsed": false,
    "ExecuteTime": {
     "end_time": "2023-12-16T21:32:11.097253900Z",
     "start_time": "2023-12-16T21:32:08.540630600Z"
    }
   },
   "id": "7dc476827c077d39"
  },
  {
   "cell_type": "code",
   "execution_count": 25,
   "outputs": [
    {
     "name": "stdout",
     "output_type": "stream",
     "text": [
      "<Response [200]>\n",
      "{\"USD\":{\"commoditymarketvalue\":0.0,\"futuremarketvalue\":0.0,\"settledcash\":87000.0,\"exchangerate\":1,\"sessionid\":1,\"cashbalance\":87000.0,\"corporatebondsmarketvalue\":0.0,\"warrantsmarketvalue\":0.0,\"netliquidationvalue\":87017.98,\"interest\":17.98,\"unrealizedpnl\":0.0,\"stockmarketvalue\":0.0,\"moneyfunds\":0.0,\"currency\":\"USD\",\"realizedpnl\":0.0,\"funds\":0.0,\"acctcode\":\"U11894290\",\"issueroptionsmarketvalue\":0.0,\"key\":\"LedgerList\",\"timestamp\":1702762408,\"severity\":0,\"stockoptionmarketvalue\":0.0,\"futuresonlypnl\":0.0,\"tbondsmarketvalue\":0.0,\"futureoptionmarketvalue\":0.0,\"cashbalancefxsegment\":0.0,\"secondkey\":\"USD\",\"tbillsmarketvalue\":0.0,\"endofbundle\":1,\"dividends\":0.0},\"BASE\":{\"commoditymarketvalue\":0.0,\"futuremarketvalue\":0.0,\"settledcash\":87000.0,\"exchangerate\":1,\"sessionid\":1,\"cashbalance\":87000.0,\"corporatebondsmarketvalue\":0.0,\"warrantsmarketvalue\":0.0,\"netliquidationvalue\":87017.98,\"interest\":17.98,\"unrealizedpnl\":0.0,\"stockmarketvalue\":0.0,\"moneyfunds\":0.0,\"currency\":\"BASE\",\"realizedpnl\":0.0,\"funds\":0.0,\"acctcode\":\"U11894290\",\"issueroptionsmarketvalue\":0.0,\"key\":\"LedgerList\",\"timestamp\":1702762408,\"severity\":0,\"stockoptionmarketvalue\":0.0,\"futuresonlypnl\":0.0,\"tbondsmarketvalue\":0.0,\"futureoptionmarketvalue\":0.0,\"cashbalancefxsegment\":0.0,\"secondkey\":\"BASE\",\"tbillsmarketvalue\":0.0,\"dividends\":0.0}}\n"
     ]
    }
   ],
   "source": [
    "#account positions\n",
    "def getaccountledger():\n",
    "    base_url = \"https://localhost:5000/v1/api/\"\n",
    "    accountId = \"U11894290\"\n",
    "    endpoint = \"portfolio/\" + accountId + \"/ledger\"\n",
    "\n",
    "    auth_req = requests.get(url=base_url+endpoint, verify=False)\n",
    "    print(auth_req)\n",
    "    print(auth_req.text)\n",
    "\n",
    "if __name__== \"__main__\":\n",
    "    getaccountledger()"
   ],
   "metadata": {
    "collapsed": false,
    "ExecuteTime": {
     "end_time": "2023-12-16T21:33:28.267488600Z",
     "start_time": "2023-12-16T21:33:25.792838800Z"
    }
   },
   "id": "ae41cef7f2a38fd1"
  },
  {
   "cell_type": "code",
   "execution_count": 26,
   "outputs": [
    {
     "name": "stdout",
     "output_type": "stream",
     "text": [
      "<Response [200]>\n",
      "{\n",
      "  \"call\": [],\n",
      "  \"put\": []\n",
      "}\n"
     ]
    }
   ],
   "source": [
    "\n",
    "# reauthenticate\n",
    "def contractStrikes():\n",
    "    base_url = \"https://localhost:5000/v1/api/\"\n",
    "    endpoint = \"iserver/secdef/strikes\"\n",
    "    conid = \"conid=11004968\"\n",
    "    secType = \"secType=FOP\"\n",
    "    month = \"month=JUL23\"\n",
    "    exchange = \"exchange=CME\"\n",
    "    params = \"&\".join([conid, secType, month, exchange])\n",
    "    request_url = \"\".join([base_url, endpoint, \"?\", params])\n",
    "    strikes_req = requests.get(url=request_url, verify=False)\n",
    "    strikes_json = json.dumps(strikes_req.json(), indent=2)\n",
    "    print(strikes_req)\n",
    "    print(strikes_json)\n",
    "if __name__ == \"__main__\":\n",
    "    contractStrikes()"
   ],
   "metadata": {
    "collapsed": false,
    "ExecuteTime": {
     "end_time": "2023-12-16T21:33:30.592079100Z",
     "start_time": "2023-12-16T21:33:28.267488600Z"
    }
   },
   "id": "8b6f811a6ca6ef0a"
  },
  {
   "cell_type": "code",
   "execution_count": 26,
   "outputs": [],
   "source": [],
   "metadata": {
    "collapsed": false,
    "ExecuteTime": {
     "end_time": "2023-12-16T21:33:30.638994Z",
     "start_time": "2023-12-16T21:33:30.592079100Z"
    }
   },
   "id": "1b310b27af50b335"
  },
  {
   "cell_type": "code",
   "execution_count": null,
   "outputs": [],
   "source": [],
   "metadata": {
    "collapsed": false
   },
   "id": "5bff33321a24d93b"
  }
 ],
 "metadata": {
  "kernelspec": {
   "display_name": "Python 3",
   "language": "python",
   "name": "python3"
  },
  "language_info": {
   "codemirror_mode": {
    "name": "ipython",
    "version": 2
   },
   "file_extension": ".py",
   "mimetype": "text/x-python",
   "name": "python",
   "nbconvert_exporter": "python",
   "pygments_lexer": "ipython2",
   "version": "2.7.6"
  }
 },
 "nbformat": 4,
 "nbformat_minor": 5
}
