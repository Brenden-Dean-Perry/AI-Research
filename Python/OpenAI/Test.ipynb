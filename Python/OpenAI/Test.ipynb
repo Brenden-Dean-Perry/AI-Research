{
 "cells": [
  {
   "cell_type": "code",
   "execution_count": 6,
   "id": "initial_id",
   "metadata": {
    "collapsed": true,
    "ExecuteTime": {
     "end_time": "2024-03-02T03:40:23.837733300Z",
     "start_time": "2024-03-02T03:40:23.822103800Z"
    }
   },
   "outputs": [],
   "source": [
    "from openai import OpenAI\n",
    "key = open(\"C:\\\\Users\\\\brend\\Desktop\\OpenAIAPIKey.txt\", \"r\").read()"
   ]
  },
  {
   "cell_type": "code",
   "execution_count": 7,
   "outputs": [],
   "source": [
    "client = OpenAI(api_key=key)\n",
    "\n",
    "response = client.chat.completions.create(\n",
    "    model=\"gpt-3.5-turbo\",\n",
    "    messages=[\n",
    "        {\n",
    "            \"role\": \"user\",\n",
    "            \"content\": \"Tell me a story?\"\n",
    "        }\n",
    "    ],\n",
    "    temperature=1,\n",
    "    max_tokens=256,\n",
    "    top_p=1,\n",
    "    frequency_penalty=0,\n",
    "    presence_penalty=0\n",
    ")"
   ],
   "metadata": {
    "collapsed": false,
    "ExecuteTime": {
     "end_time": "2024-03-02T03:40:30.027988200Z",
     "start_time": "2024-03-02T03:40:26.062758600Z"
    }
   },
   "id": "d2d23d7a9f81d97e"
  },
  {
   "cell_type": "code",
   "execution_count": null,
   "outputs": [],
   "source": [],
   "metadata": {
    "collapsed": false
   },
   "id": "8c2368acdcdf8062"
  },
  {
   "cell_type": "code",
   "execution_count": 8,
   "outputs": [
    {
     "name": "stdout",
     "output_type": "stream",
     "text": [
      "ChatCompletion(id='chatcmpl-8yAWFCkymKSSmR09yPpVzZZuKsfmz', choices=[Choice(finish_reason='length', index=0, logprobs=None, message=ChatCompletionMessage(content=\"Once upon a time, in a small village nestled at the foot of a towering mountain, there lived a young girl named Luna. Luna was known throughout the village for her kindness and gentle spirit. She spent her days helping her neighbors and tending to the animals that roamed the fields.\\n\\nOne day, as Luna was walking through the forest collecting herbs, she stumbled upon a wounded wolf. The poor creature lay whimpering in pain, its fur matted and bloodied. Without hesitation, Luna knelt down beside the wolf and began to bandage its wounds. She spoke softly to the animal, soothing its fears and offering it food and water.\\n\\nTo her surprise, the wolf gazed at her with eyes that seemed to understand. It nuzzled against her hand, grateful for her care and affection. Luna knew that she had made a new friend, and from that day on, the wolf followed her wherever she went.\\n\\nAs they journeyed together through the forest, Luna and the wolf encountered many wonders and dangers. They faced fierce storms and treacherous paths, but with each challenge, their bond grew stronger. Luna learned to trust in the wolf's instincts, and the wolf relied on Luna's wisdom and kindness.\\n\\nEventually, they reached the top of the mountain,\", role='assistant', function_call=None, tool_calls=None))], created=1709350807, model='gpt-3.5-turbo-0125', object='chat.completion', system_fingerprint='fp_2b778c6b35', usage=CompletionUsage(completion_tokens=256, prompt_tokens=12, total_tokens=268))\n"
     ]
    }
   ],
   "source": [
    "print(response)"
   ],
   "metadata": {
    "collapsed": false,
    "ExecuteTime": {
     "end_time": "2024-03-02T03:41:44.912920Z",
     "start_time": "2024-03-02T03:41:44.897287400Z"
    }
   },
   "id": "e9443503d9d32958"
  },
  {
   "cell_type": "code",
   "execution_count": null,
   "outputs": [],
   "source": [],
   "metadata": {
    "collapsed": false
   },
   "id": "5b2d78aeec268730"
  }
 ],
 "metadata": {
  "kernelspec": {
   "display_name": "Python 3",
   "language": "python",
   "name": "python3"
  },
  "language_info": {
   "codemirror_mode": {
    "name": "ipython",
    "version": 2
   },
   "file_extension": ".py",
   "mimetype": "text/x-python",
   "name": "python",
   "nbconvert_exporter": "python",
   "pygments_lexer": "ipython2",
   "version": "2.7.6"
  }
 },
 "nbformat": 4,
 "nbformat_minor": 5
}
