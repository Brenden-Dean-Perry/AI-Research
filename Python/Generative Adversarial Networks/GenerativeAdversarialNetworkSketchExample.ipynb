{
 "cells": [
  {
   "cell_type": "code",
   "execution_count": 1,
   "id": "initial_id",
   "metadata": {
    "collapsed": true,
    "ExecuteTime": {
     "end_time": "2023-09-16T23:25:07.422102300Z",
     "start_time": "2023-09-16T23:24:53.359465100Z"
    }
   },
   "outputs": [],
   "source": [
    "#import depenedencies\n",
    "import numpy as np\n",
    "import os\n",
    "import pandas as pd\n",
    "from matplotlib import pyplot as plt\n",
    "import keras\n",
    "from keras.models import Model\n",
    "from keras.layers import Input, Dense, Conv2D, Dropout,Flatten, Activation\n",
    "from keras.layers import BatchNormalization, Reshape, Conv2DTranspose, UpSampling2D\n",
    "from keras.optimizers import RMSprop\n",
    "%matplotlib inline"
   ]
  },
  {
   "cell_type": "code",
   "execution_count": null,
   "outputs": [],
   "source": [
    "#load data\n",
    "input_images = \".../quickdraw_data/apple.npy\"\n",
    "data = np.load(input_images)"
   ],
   "metadata": {
    "collapsed": false
   },
   "id": "acecf8c7c3ce36fe"
  },
  {
   "cell_type": "code",
   "execution_count": null,
   "outputs": [],
   "source": [
    "data.shape()"
   ],
   "metadata": {
    "collapsed": false
   },
   "id": "c7ee62283086bebf"
  },
  {
   "cell_type": "code",
   "execution_count": null,
   "outputs": [],
   "source": [
    "data = data/255\n",
    "data = np.reshape(data, (data.shape[0], 28, 28, 1))\n",
    "img_w, img_h = data.shape[1:3]"
   ],
   "metadata": {
    "collapsed": false
   },
   "id": "4c1bb97ae071d662"
  },
  {
   "cell_type": "code",
   "execution_count": null,
   "outputs": [],
   "source": [
    "#show image as example\n",
    "plt.imshow(data[4242,:,:,0], cmap='Greys')"
   ],
   "metadata": {
    "collapsed": false
   },
   "id": "5c1f712ff5c8526e"
  },
  {
   "cell_type": "code",
   "execution_count": null,
   "outputs": [],
   "source": [
    "#discriminator model architecture\n",
    "def build_discriminator(depth=64, p=0.4):\n",
    "    \n",
    "    #Define inputs\n",
    "    image = Input((img_w, img_h, 1))\n",
    "    \n",
    "    #Convolutional layers\n",
    "    conv1 = Conv2D(depth*1, 5, strides=2,\n",
    "                   padding='same', activation='relu')(image)\n",
    "    conv1 = Dropout(p)(conv1)\n",
    "\n",
    "    conv2 = Conv2D(depth*2, 5, strides=2,\n",
    "                   padding='same', activation='relu')(conv1)\n",
    "    conv2 = Dropout(p)(conv2)\n",
    "\n",
    "    conv3 = Conv2D(depth*4, 5, strides=2,\n",
    "                   padding='same', activation='relu')(conv2)\n",
    "    conv3 = Dropout(p)(conv3)\n",
    "\n",
    "    conv4 = Conv2D(depth*8, 5, strides=2,\n",
    "                   padding='same', activation='relu')(conv3)\n",
    "    conv4 = Flatten()(Dropout(p)(conv4))\n",
    "    \n",
    "    #output layer\n",
    "    prediction = Dense(1, activation='sigmoid')(conv4)\n",
    "    \n",
    "    #Model definition\n",
    "    model = Model(inputs=image, outputs=prediction)\n",
    "    \n",
    "    return model"
   ],
   "metadata": {
    "collapsed": false
   },
   "id": "8bd66871498aaa27"
  },
  {
   "cell_type": "code",
   "execution_count": null,
   "outputs": [],
   "source": [
    "#build discriminator\n",
    "discriminator = build_discriminator()"
   ],
   "metadata": {
    "collapsed": false
   },
   "id": "c4b559d1c5b65ba2"
  },
  {
   "cell_type": "code",
   "execution_count": null,
   "outputs": [],
   "source": [
    "discriminator.compile(loss='binary_crossentropy',\n",
    "                      optimizer=RMSprop(lr=0.0008,\n",
    "                                        decay=6e-8,\n",
    "                                        clipvalue=1.0),\n",
    "                      metrics=['accuracy'])"
   ],
   "metadata": {
    "collapsed": false
   },
   "id": "6d02be6ad0691fb"
  }
 ],
 "metadata": {
  "kernelspec": {
   "display_name": "Python 3",
   "language": "python",
   "name": "python3"
  },
  "language_info": {
   "codemirror_mode": {
    "name": "ipython",
    "version": 2
   },
   "file_extension": ".py",
   "mimetype": "text/x-python",
   "name": "python",
   "nbconvert_exporter": "python",
   "pygments_lexer": "ipython2",
   "version": "2.7.6"
  }
 },
 "nbformat": 4,
 "nbformat_minor": 5
}
