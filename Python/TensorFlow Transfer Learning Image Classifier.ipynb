{
 "cells": [
  {
   "cell_type": "code",
   "execution_count": 1,
   "id": "initial_id",
   "metadata": {
    "collapsed": true,
    "ExecuteTime": {
     "end_time": "2023-11-19T22:59:12.026353100Z",
     "start_time": "2023-11-19T22:59:08.058518400Z"
    }
   },
   "outputs": [],
   "source": [
    "import numpy as np\n",
    "import matplotlib.pyplot as plt\n",
    "\n",
    "import tensorflow as tf\n",
    "import tensorflow_hub as hub\n",
    "import tensorflow_datasets as tfds"
   ]
  },
  {
   "cell_type": "code",
   "execution_count": 2,
   "outputs": [],
   "source": [
    "def format_image(image, label):\n",
    "    image = tf.image.resize(image, IMAGE_SIZE) / 255.0\n",
    "    return image, label"
   ],
   "metadata": {
    "collapsed": false,
    "ExecuteTime": {
     "end_time": "2023-11-19T22:59:12.044356800Z",
     "start_time": "2023-11-19T22:59:12.030368200Z"
    }
   },
   "id": "d3d35dc9dc380184"
  },
  {
   "cell_type": "code",
   "execution_count": 4,
   "outputs": [
    {
     "name": "stdout",
     "output_type": "stream",
     "text": [
      "\u001B[1mDownloading and preparing dataset cats_vs_dogs (786.68 MiB) to C:\\Users\\brend\\tensorflow_datasets\\cats_vs_dogs\\2.0.1...\u001B[0m\n"
     ]
    },
    {
     "data": {
      "text/plain": "Dl Completed...: 0 url [00:00, ? url/s]",
      "application/vnd.jupyter.widget-view+json": {
       "version_major": 2,
       "version_minor": 0,
       "model_id": "682c5ce168db46cd88118fa7a36c763c"
      }
     },
     "metadata": {},
     "output_type": "display_data"
    },
    {
     "data": {
      "text/plain": "Dl Size...: 0 MiB [00:00, ? MiB/s]",
      "application/vnd.jupyter.widget-view+json": {
       "version_major": 2,
       "version_minor": 0,
       "model_id": "62bcd7f4b68b434c906dbdec0b90e3c3"
      }
     },
     "metadata": {},
     "output_type": "display_data"
    },
    {
     "name": "stderr",
     "output_type": "stream",
     "text": [
      "C:\\Users\\brend\\.conda\\envs\\Python3_8\\lib\\site-packages\\urllib3\\connectionpool.py:1061: InsecureRequestWarning: Unverified HTTPS request is being made to host 'download.microsoft.com'. Adding certificate verification is strongly advised. See: https://urllib3.readthedocs.io/en/1.26.x/advanced-usage.html#ssl-warnings\n",
      "  warnings.warn(\n"
     ]
    },
    {
     "ename": "DownloadError",
     "evalue": "Failed to get url https://download.microsoft.com/download/3/E/1/3E1C3F21-ECDB-4869-8368-6DEBA77B919F/kagglecatsanddogs_3367a.zip. HTTP code: 404.",
     "output_type": "error",
     "traceback": [
      "\u001B[1;31m---------------------------------------------------------------------------\u001B[0m",
      "\u001B[1;31mDownloadError\u001B[0m                             Traceback (most recent call last)",
      "Cell \u001B[1;32mIn[4], line 1\u001B[0m\n\u001B[1;32m----> 1\u001B[0m (raw_train, raw_validation, raw_test), metadata \u001B[38;5;241m=\u001B[39m \u001B[43mtfds\u001B[49m\u001B[38;5;241;43m.\u001B[39;49m\u001B[43mload\u001B[49m\u001B[43m(\u001B[49m\n\u001B[0;32m      2\u001B[0m \u001B[43m    \u001B[49m\u001B[38;5;124;43m'\u001B[39;49m\u001B[38;5;124;43mcats_vs_dogs\u001B[39;49m\u001B[38;5;124;43m'\u001B[39;49m\u001B[43m,\u001B[49m\n\u001B[0;32m      3\u001B[0m \u001B[43m    \u001B[49m\u001B[43msplit\u001B[49m\u001B[38;5;241;43m=\u001B[39;49m\u001B[43m[\u001B[49m\u001B[38;5;124;43m'\u001B[39;49m\u001B[38;5;124;43mtrain[:80\u001B[39;49m\u001B[38;5;124;43m%\u001B[39;49m\u001B[38;5;124;43m]\u001B[39;49m\u001B[38;5;124;43m'\u001B[39;49m\u001B[43m,\u001B[49m\u001B[43m \u001B[49m\u001B[38;5;124;43m'\u001B[39;49m\u001B[38;5;124;43mtrain[80\u001B[39;49m\u001B[38;5;124;43m%\u001B[39;49m\u001B[38;5;124;43m:90\u001B[39;49m\u001B[38;5;124;43m%\u001B[39;49m\u001B[38;5;124;43m]\u001B[39;49m\u001B[38;5;124;43m'\u001B[39;49m\u001B[43m,\u001B[49m\u001B[43m \u001B[49m\u001B[38;5;124;43m'\u001B[39;49m\u001B[38;5;124;43mtrain[90\u001B[39;49m\u001B[38;5;124;43m%\u001B[39;49m\u001B[38;5;124;43m:]\u001B[39;49m\u001B[38;5;124;43m'\u001B[39;49m\u001B[43m]\u001B[49m\u001B[43m,\u001B[49m\n\u001B[0;32m      4\u001B[0m \u001B[43m    \u001B[49m\u001B[43mwith_info\u001B[49m\u001B[38;5;241;43m=\u001B[39;49m\u001B[38;5;28;43;01mTrue\u001B[39;49;00m\u001B[43m,\u001B[49m\n\u001B[0;32m      5\u001B[0m \u001B[43m    \u001B[49m\u001B[43mas_supervised\u001B[49m\u001B[38;5;241;43m=\u001B[39;49m\u001B[38;5;28;43;01mTrue\u001B[39;49;00m\u001B[43m,\u001B[49m\n\u001B[0;32m      6\u001B[0m \u001B[43m)\u001B[49m\n\u001B[0;32m      8\u001B[0m num_examples \u001B[38;5;241m=\u001B[39m metadata\u001B[38;5;241m.\u001B[39msplits[\u001B[38;5;124m'\u001B[39m\u001B[38;5;124mtrain\u001B[39m\u001B[38;5;124m'\u001B[39m]\u001B[38;5;241m.\u001B[39mnum_examples\n\u001B[0;32m      9\u001B[0m num_classes \u001B[38;5;241m=\u001B[39m metadata\u001B[38;5;241m.\u001B[39mfeatures[\u001B[38;5;124m'\u001B[39m\u001B[38;5;124mlabel\u001B[39m\u001B[38;5;124m'\u001B[39m]\u001B[38;5;241m.\u001B[39mnu_classes\n",
      "File \u001B[1;32m~\\.conda\\envs\\Python3_8\\lib\\site-packages\\tensorflow_datasets\\core\\api_utils.py:52\u001B[0m, in \u001B[0;36mdisallow_positional_args.<locals>.disallow_positional_args_dec\u001B[1;34m(fn, instance, args, kwargs)\u001B[0m\n\u001B[0;32m     50\u001B[0m _check_no_positional(fn, args, ismethod, allowed\u001B[38;5;241m=\u001B[39mallowed)\n\u001B[0;32m     51\u001B[0m _check_required(fn, kwargs)\n\u001B[1;32m---> 52\u001B[0m \u001B[38;5;28;01mreturn\u001B[39;00m fn(\u001B[38;5;241m*\u001B[39margs, \u001B[38;5;241m*\u001B[39m\u001B[38;5;241m*\u001B[39mkwargs)\n",
      "File \u001B[1;32m~\\.conda\\envs\\Python3_8\\lib\\site-packages\\tensorflow_datasets\\core\\registered.py:300\u001B[0m, in \u001B[0;36mload\u001B[1;34m(name, split, data_dir, batch_size, in_memory, shuffle_files, download, as_supervised, decoders, with_info, builder_kwargs, download_and_prepare_kwargs, as_dataset_kwargs, try_gcs)\u001B[0m\n\u001B[0;32m    298\u001B[0m \u001B[38;5;28;01mif\u001B[39;00m download:\n\u001B[0;32m    299\u001B[0m   download_and_prepare_kwargs \u001B[38;5;241m=\u001B[39m download_and_prepare_kwargs \u001B[38;5;129;01mor\u001B[39;00m {}\n\u001B[1;32m--> 300\u001B[0m   dbuilder\u001B[38;5;241m.\u001B[39mdownload_and_prepare(\u001B[38;5;241m*\u001B[39m\u001B[38;5;241m*\u001B[39mdownload_and_prepare_kwargs)\n\u001B[0;32m    302\u001B[0m \u001B[38;5;28;01mif\u001B[39;00m as_dataset_kwargs \u001B[38;5;129;01mis\u001B[39;00m \u001B[38;5;28;01mNone\u001B[39;00m:\n\u001B[0;32m    303\u001B[0m   as_dataset_kwargs \u001B[38;5;241m=\u001B[39m {}\n",
      "File \u001B[1;32m~\\.conda\\envs\\Python3_8\\lib\\site-packages\\tensorflow_datasets\\core\\api_utils.py:52\u001B[0m, in \u001B[0;36mdisallow_positional_args.<locals>.disallow_positional_args_dec\u001B[1;34m(fn, instance, args, kwargs)\u001B[0m\n\u001B[0;32m     50\u001B[0m _check_no_positional(fn, args, ismethod, allowed\u001B[38;5;241m=\u001B[39mallowed)\n\u001B[0;32m     51\u001B[0m _check_required(fn, kwargs)\n\u001B[1;32m---> 52\u001B[0m \u001B[38;5;28;01mreturn\u001B[39;00m fn(\u001B[38;5;241m*\u001B[39margs, \u001B[38;5;241m*\u001B[39m\u001B[38;5;241m*\u001B[39mkwargs)\n",
      "File \u001B[1;32m~\\.conda\\envs\\Python3_8\\lib\\site-packages\\tensorflow_datasets\\core\\dataset_builder.py:285\u001B[0m, in \u001B[0;36mDatasetBuilder.download_and_prepare\u001B[1;34m(self, download_dir, download_config)\u001B[0m\n\u001B[0;32m    281\u001B[0m \u001B[38;5;28;01mwith\u001B[39;00m file_format_adapter\u001B[38;5;241m.\u001B[39mincomplete_dir(\u001B[38;5;28mself\u001B[39m\u001B[38;5;241m.\u001B[39m_data_dir) \u001B[38;5;28;01mas\u001B[39;00m tmp_data_dir:\n\u001B[0;32m    282\u001B[0m   \u001B[38;5;66;03m# Temporarily assign _data_dir to tmp_data_dir to avoid having to forward\u001B[39;00m\n\u001B[0;32m    283\u001B[0m   \u001B[38;5;66;03m# it to every sub function.\u001B[39;00m\n\u001B[0;32m    284\u001B[0m   \u001B[38;5;28;01mwith\u001B[39;00m utils\u001B[38;5;241m.\u001B[39mtemporary_assignment(\u001B[38;5;28mself\u001B[39m, \u001B[38;5;124m\"\u001B[39m\u001B[38;5;124m_data_dir\u001B[39m\u001B[38;5;124m\"\u001B[39m, tmp_data_dir):\n\u001B[1;32m--> 285\u001B[0m     \u001B[38;5;28;43mself\u001B[39;49m\u001B[38;5;241;43m.\u001B[39;49m\u001B[43m_download_and_prepare\u001B[49m\u001B[43m(\u001B[49m\n\u001B[0;32m    286\u001B[0m \u001B[43m        \u001B[49m\u001B[43mdl_manager\u001B[49m\u001B[38;5;241;43m=\u001B[39;49m\u001B[43mdl_manager\u001B[49m\u001B[43m,\u001B[49m\n\u001B[0;32m    287\u001B[0m \u001B[43m        \u001B[49m\u001B[43mdownload_config\u001B[49m\u001B[38;5;241;43m=\u001B[39;49m\u001B[43mdownload_config\u001B[49m\u001B[43m)\u001B[49m\n\u001B[0;32m    289\u001B[0m     \u001B[38;5;66;03m# NOTE: If modifying the lines below to put additional information in\u001B[39;00m\n\u001B[0;32m    290\u001B[0m     \u001B[38;5;66;03m# DatasetInfo, you'll likely also want to update\u001B[39;00m\n\u001B[0;32m    291\u001B[0m     \u001B[38;5;66;03m# DatasetInfo.read_from_directory to possibly restore these attributes\u001B[39;00m\n\u001B[0;32m    292\u001B[0m     \u001B[38;5;66;03m# when reading from package data.\u001B[39;00m\n\u001B[0;32m    293\u001B[0m \n\u001B[0;32m    294\u001B[0m     \u001B[38;5;66;03m# Update the DatasetInfo metadata by computing statistics from the data.\u001B[39;00m\n\u001B[0;32m    295\u001B[0m     \u001B[38;5;28;01mif\u001B[39;00m (download_config\u001B[38;5;241m.\u001B[39mcompute_stats \u001B[38;5;241m==\u001B[39m download\u001B[38;5;241m.\u001B[39mComputeStatsMode\u001B[38;5;241m.\u001B[39mSKIP \u001B[38;5;129;01mor\u001B[39;00m\n\u001B[0;32m    296\u001B[0m         download_config\u001B[38;5;241m.\u001B[39mcompute_stats \u001B[38;5;241m==\u001B[39m download\u001B[38;5;241m.\u001B[39mComputeStatsMode\u001B[38;5;241m.\u001B[39mAUTO \u001B[38;5;129;01mand\u001B[39;00m\n\u001B[0;32m    297\u001B[0m         \u001B[38;5;28mbool\u001B[39m(\u001B[38;5;28mself\u001B[39m\u001B[38;5;241m.\u001B[39minfo\u001B[38;5;241m.\u001B[39msplits\u001B[38;5;241m.\u001B[39mtotal_num_examples)\n\u001B[0;32m    298\u001B[0m        ):\n",
      "File \u001B[1;32m~\\.conda\\envs\\Python3_8\\lib\\site-packages\\tensorflow_datasets\\core\\dataset_builder.py:946\u001B[0m, in \u001B[0;36mGeneratorBasedBuilder._download_and_prepare\u001B[1;34m(self, dl_manager, download_config)\u001B[0m\n\u001B[0;32m    944\u001B[0m \u001B[38;5;28;01mdef\u001B[39;00m \u001B[38;5;21m_download_and_prepare\u001B[39m(\u001B[38;5;28mself\u001B[39m, dl_manager, download_config):\n\u001B[0;32m    945\u001B[0m   \u001B[38;5;66;03m# Extract max_examples_per_split and forward it to _prepare_split\u001B[39;00m\n\u001B[1;32m--> 946\u001B[0m   \u001B[38;5;28;43msuper\u001B[39;49m\u001B[43m(\u001B[49m\u001B[43mGeneratorBasedBuilder\u001B[49m\u001B[43m,\u001B[49m\u001B[43m \u001B[49m\u001B[38;5;28;43mself\u001B[39;49m\u001B[43m)\u001B[49m\u001B[38;5;241;43m.\u001B[39;49m\u001B[43m_download_and_prepare\u001B[49m\u001B[43m(\u001B[49m\n\u001B[0;32m    947\u001B[0m \u001B[43m      \u001B[49m\u001B[43mdl_manager\u001B[49m\u001B[38;5;241;43m=\u001B[39;49m\u001B[43mdl_manager\u001B[49m\u001B[43m,\u001B[49m\n\u001B[0;32m    948\u001B[0m \u001B[43m      \u001B[49m\u001B[43mmax_examples_per_split\u001B[49m\u001B[38;5;241;43m=\u001B[39;49m\u001B[43mdownload_config\u001B[49m\u001B[38;5;241;43m.\u001B[39;49m\u001B[43mmax_examples_per_split\u001B[49m\u001B[43m,\u001B[49m\n\u001B[0;32m    949\u001B[0m \u001B[43m  \u001B[49m\u001B[43m)\u001B[49m\n",
      "File \u001B[1;32m~\\.conda\\envs\\Python3_8\\lib\\site-packages\\tensorflow_datasets\\core\\dataset_builder.py:804\u001B[0m, in \u001B[0;36mFileAdapterBuilder._download_and_prepare\u001B[1;34m(self, dl_manager, **prepare_split_kwargs)\u001B[0m\n\u001B[0;32m    802\u001B[0m \u001B[38;5;66;03m# Generating data for all splits\u001B[39;00m\n\u001B[0;32m    803\u001B[0m split_dict \u001B[38;5;241m=\u001B[39m splits_lib\u001B[38;5;241m.\u001B[39mSplitDict()\n\u001B[1;32m--> 804\u001B[0m \u001B[38;5;28;01mfor\u001B[39;00m split_generator \u001B[38;5;129;01min\u001B[39;00m \u001B[38;5;28;43mself\u001B[39;49m\u001B[38;5;241;43m.\u001B[39;49m\u001B[43m_split_generators\u001B[49m\u001B[43m(\u001B[49m\u001B[43mdl_manager\u001B[49m\u001B[43m)\u001B[49m:\n\u001B[0;32m    805\u001B[0m   \u001B[38;5;28;01mif\u001B[39;00m splits_lib\u001B[38;5;241m.\u001B[39mSplit\u001B[38;5;241m.\u001B[39mALL \u001B[38;5;241m==\u001B[39m split_generator\u001B[38;5;241m.\u001B[39msplit_info\u001B[38;5;241m.\u001B[39mname:\n\u001B[0;32m    806\u001B[0m     \u001B[38;5;28;01mraise\u001B[39;00m \u001B[38;5;167;01mValueError\u001B[39;00m(\n\u001B[0;32m    807\u001B[0m         \u001B[38;5;124m\"\u001B[39m\u001B[38;5;124mtfds.Split.ALL is a special split keyword corresponding to the \u001B[39m\u001B[38;5;124m\"\u001B[39m\n\u001B[0;32m    808\u001B[0m         \u001B[38;5;124m\"\u001B[39m\u001B[38;5;124munion of all splits, so cannot be used as key in \u001B[39m\u001B[38;5;124m\"\u001B[39m\n\u001B[0;32m    809\u001B[0m         \u001B[38;5;124m\"\u001B[39m\u001B[38;5;124m._split_generator().\u001B[39m\u001B[38;5;124m\"\u001B[39m\n\u001B[0;32m    810\u001B[0m     )\n",
      "File \u001B[1;32m~\\.conda\\envs\\Python3_8\\lib\\site-packages\\tensorflow_datasets\\image\\cats_vs_dogs.py:81\u001B[0m, in \u001B[0;36mCatsVsDogs._split_generators\u001B[1;34m(self, dl_manager)\u001B[0m\n\u001B[0;32m     80\u001B[0m \u001B[38;5;28;01mdef\u001B[39;00m \u001B[38;5;21m_split_generators\u001B[39m(\u001B[38;5;28mself\u001B[39m, dl_manager):\n\u001B[1;32m---> 81\u001B[0m   path \u001B[38;5;241m=\u001B[39m \u001B[43mdl_manager\u001B[49m\u001B[38;5;241;43m.\u001B[39;49m\u001B[43mdownload\u001B[49m\u001B[43m(\u001B[49m\u001B[43m_URL\u001B[49m\u001B[43m)\u001B[49m\n\u001B[0;32m     83\u001B[0m   \u001B[38;5;66;03m# There is no predefined train/val/test split for this dataset.\u001B[39;00m\n\u001B[0;32m     84\u001B[0m   \u001B[38;5;28;01mreturn\u001B[39;00m [\n\u001B[0;32m     85\u001B[0m       tfds\u001B[38;5;241m.\u001B[39mcore\u001B[38;5;241m.\u001B[39mSplitGenerator(\n\u001B[0;32m     86\u001B[0m           name\u001B[38;5;241m=\u001B[39mtfds\u001B[38;5;241m.\u001B[39mSplit\u001B[38;5;241m.\u001B[39mTRAIN,\n\u001B[1;32m   (...)\u001B[0m\n\u001B[0;32m     90\u001B[0m           }),\n\u001B[0;32m     91\u001B[0m   ]\n",
      "File \u001B[1;32m~\\.conda\\envs\\Python3_8\\lib\\site-packages\\tensorflow_datasets\\core\\download\\download_manager.py:301\u001B[0m, in \u001B[0;36mDownloadManager.download\u001B[1;34m(self, url_or_urls)\u001B[0m\n\u001B[0;32m    299\u001B[0m \u001B[38;5;66;03m# Add progress bar to follow the download state\u001B[39;00m\n\u001B[0;32m    300\u001B[0m \u001B[38;5;28;01mwith\u001B[39;00m \u001B[38;5;28mself\u001B[39m\u001B[38;5;241m.\u001B[39m_downloader\u001B[38;5;241m.\u001B[39mtqdm():\n\u001B[1;32m--> 301\u001B[0m   \u001B[38;5;28;01mreturn\u001B[39;00m \u001B[43m_map_promise\u001B[49m\u001B[43m(\u001B[49m\u001B[38;5;28;43mself\u001B[39;49m\u001B[38;5;241;43m.\u001B[39;49m\u001B[43m_download\u001B[49m\u001B[43m,\u001B[49m\u001B[43m \u001B[49m\u001B[43murl_or_urls\u001B[49m\u001B[43m)\u001B[49m\n",
      "File \u001B[1;32m~\\.conda\\envs\\Python3_8\\lib\\site-packages\\tensorflow_datasets\\core\\download\\download_manager.py:395\u001B[0m, in \u001B[0;36m_map_promise\u001B[1;34m(map_fn, all_inputs)\u001B[0m\n\u001B[0;32m    393\u001B[0m \u001B[38;5;250m\u001B[39m\u001B[38;5;124;03m\"\"\"Map the function into each element and resolve the promise.\"\"\"\u001B[39;00m\n\u001B[0;32m    394\u001B[0m all_promises \u001B[38;5;241m=\u001B[39m utils\u001B[38;5;241m.\u001B[39mmap_nested(map_fn, all_inputs)  \u001B[38;5;66;03m# Apply the function\u001B[39;00m\n\u001B[1;32m--> 395\u001B[0m res \u001B[38;5;241m=\u001B[39m \u001B[43mutils\u001B[49m\u001B[38;5;241;43m.\u001B[39;49m\u001B[43mmap_nested\u001B[49m\u001B[43m(\u001B[49m\u001B[43m_wait_on_promise\u001B[49m\u001B[43m,\u001B[49m\u001B[43m \u001B[49m\u001B[43mall_promises\u001B[49m\u001B[43m)\u001B[49m\n\u001B[0;32m    396\u001B[0m \u001B[38;5;28;01mreturn\u001B[39;00m res\n",
      "File \u001B[1;32m~\\.conda\\envs\\Python3_8\\lib\\site-packages\\tensorflow_datasets\\core\\utils\\py_utils.py:143\u001B[0m, in \u001B[0;36mmap_nested\u001B[1;34m(function, data_struct, dict_only, map_tuple)\u001B[0m\n\u001B[0;32m    141\u001B[0m       \u001B[38;5;28;01mreturn\u001B[39;00m \u001B[38;5;28mtuple\u001B[39m(mapped)\n\u001B[0;32m    142\u001B[0m \u001B[38;5;66;03m# Singleton\u001B[39;00m\n\u001B[1;32m--> 143\u001B[0m \u001B[38;5;28;01mreturn\u001B[39;00m \u001B[43mfunction\u001B[49m\u001B[43m(\u001B[49m\u001B[43mdata_struct\u001B[49m\u001B[43m)\u001B[49m\n",
      "File \u001B[1;32m~\\.conda\\envs\\Python3_8\\lib\\site-packages\\tensorflow_datasets\\core\\download\\download_manager.py:379\u001B[0m, in \u001B[0;36m_wait_on_promise\u001B[1;34m(p)\u001B[0m\n\u001B[0;32m    378\u001B[0m \u001B[38;5;28;01mdef\u001B[39;00m \u001B[38;5;21m_wait_on_promise\u001B[39m(p):\n\u001B[1;32m--> 379\u001B[0m   \u001B[38;5;28;01mreturn\u001B[39;00m \u001B[43mp\u001B[49m\u001B[38;5;241;43m.\u001B[39;49m\u001B[43mget\u001B[49m\u001B[43m(\u001B[49m\u001B[43m)\u001B[49m\n",
      "File \u001B[1;32m~\\.conda\\envs\\Python3_8\\lib\\site-packages\\promise\\promise.py:512\u001B[0m, in \u001B[0;36mPromise.get\u001B[1;34m(self, timeout)\u001B[0m\n\u001B[0;32m    510\u001B[0m target \u001B[38;5;241m=\u001B[39m \u001B[38;5;28mself\u001B[39m\u001B[38;5;241m.\u001B[39m_target()\n\u001B[0;32m    511\u001B[0m \u001B[38;5;28mself\u001B[39m\u001B[38;5;241m.\u001B[39m_wait(timeout \u001B[38;5;129;01mor\u001B[39;00m DEFAULT_TIMEOUT)\n\u001B[1;32m--> 512\u001B[0m \u001B[38;5;28;01mreturn\u001B[39;00m \u001B[38;5;28;43mself\u001B[39;49m\u001B[38;5;241;43m.\u001B[39;49m\u001B[43m_target_settled_value\u001B[49m\u001B[43m(\u001B[49m\u001B[43m_raise\u001B[49m\u001B[38;5;241;43m=\u001B[39;49m\u001B[38;5;28;43;01mTrue\u001B[39;49;00m\u001B[43m)\u001B[49m\n",
      "File \u001B[1;32m~\\.conda\\envs\\Python3_8\\lib\\site-packages\\promise\\promise.py:516\u001B[0m, in \u001B[0;36mPromise._target_settled_value\u001B[1;34m(self, _raise)\u001B[0m\n\u001B[0;32m    514\u001B[0m \u001B[38;5;28;01mdef\u001B[39;00m \u001B[38;5;21m_target_settled_value\u001B[39m(\u001B[38;5;28mself\u001B[39m, _raise\u001B[38;5;241m=\u001B[39m\u001B[38;5;28;01mFalse\u001B[39;00m):\n\u001B[0;32m    515\u001B[0m     \u001B[38;5;66;03m# type: (bool) -> Any\u001B[39;00m\n\u001B[1;32m--> 516\u001B[0m     \u001B[38;5;28;01mreturn\u001B[39;00m \u001B[38;5;28;43mself\u001B[39;49m\u001B[38;5;241;43m.\u001B[39;49m\u001B[43m_target\u001B[49m\u001B[43m(\u001B[49m\u001B[43m)\u001B[49m\u001B[38;5;241;43m.\u001B[39;49m\u001B[43m_settled_value\u001B[49m\u001B[43m(\u001B[49m\u001B[43m_raise\u001B[49m\u001B[43m)\u001B[49m\n",
      "File \u001B[1;32m~\\.conda\\envs\\Python3_8\\lib\\site-packages\\promise\\promise.py:226\u001B[0m, in \u001B[0;36mPromise._settled_value\u001B[1;34m(self, _raise)\u001B[0m\n\u001B[0;32m    224\u001B[0m \u001B[38;5;28;01mif\u001B[39;00m _raise:\n\u001B[0;32m    225\u001B[0m     raise_val \u001B[38;5;241m=\u001B[39m \u001B[38;5;28mself\u001B[39m\u001B[38;5;241m.\u001B[39m_fulfillment_handler0\n\u001B[1;32m--> 226\u001B[0m     \u001B[43mreraise\u001B[49m\u001B[43m(\u001B[49m\u001B[38;5;28;43mtype\u001B[39;49m\u001B[43m(\u001B[49m\u001B[43mraise_val\u001B[49m\u001B[43m)\u001B[49m\u001B[43m,\u001B[49m\u001B[43m \u001B[49m\u001B[43mraise_val\u001B[49m\u001B[43m,\u001B[49m\u001B[43m \u001B[49m\u001B[38;5;28;43mself\u001B[39;49m\u001B[38;5;241;43m.\u001B[39;49m\u001B[43m_traceback\u001B[49m\u001B[43m)\u001B[49m\n\u001B[0;32m    227\u001B[0m \u001B[38;5;28;01mreturn\u001B[39;00m \u001B[38;5;28mself\u001B[39m\u001B[38;5;241m.\u001B[39m_fulfillment_handler0\n",
      "File \u001B[1;32m~\\.conda\\envs\\Python3_8\\lib\\site-packages\\six.py:719\u001B[0m, in \u001B[0;36mreraise\u001B[1;34m(tp, value, tb)\u001B[0m\n\u001B[0;32m    717\u001B[0m     \u001B[38;5;28;01mif\u001B[39;00m value\u001B[38;5;241m.\u001B[39m__traceback__ \u001B[38;5;129;01mis\u001B[39;00m \u001B[38;5;129;01mnot\u001B[39;00m tb:\n\u001B[0;32m    718\u001B[0m         \u001B[38;5;28;01mraise\u001B[39;00m value\u001B[38;5;241m.\u001B[39mwith_traceback(tb)\n\u001B[1;32m--> 719\u001B[0m     \u001B[38;5;28;01mraise\u001B[39;00m value\n\u001B[0;32m    720\u001B[0m \u001B[38;5;28;01mfinally\u001B[39;00m:\n\u001B[0;32m    721\u001B[0m     value \u001B[38;5;241m=\u001B[39m \u001B[38;5;28;01mNone\u001B[39;00m\n",
      "File \u001B[1;32m~\\.conda\\envs\\Python3_8\\lib\\site-packages\\promise\\promise.py:844\u001B[0m, in \u001B[0;36m_process_future_result.<locals>.handle_future_result\u001B[1;34m(future)\u001B[0m\n\u001B[0;32m    841\u001B[0m \u001B[38;5;28;01mdef\u001B[39;00m \u001B[38;5;21mhandle_future_result\u001B[39m(future):\n\u001B[0;32m    842\u001B[0m     \u001B[38;5;66;03m# type: (Any) -> None\u001B[39;00m\n\u001B[0;32m    843\u001B[0m     \u001B[38;5;28;01mtry\u001B[39;00m:\n\u001B[1;32m--> 844\u001B[0m         resolve(\u001B[43mfuture\u001B[49m\u001B[38;5;241;43m.\u001B[39;49m\u001B[43mresult\u001B[49m\u001B[43m(\u001B[49m\u001B[43m)\u001B[49m)\n\u001B[0;32m    845\u001B[0m     \u001B[38;5;28;01mexcept\u001B[39;00m \u001B[38;5;167;01mException\u001B[39;00m \u001B[38;5;28;01mas\u001B[39;00m e:\n\u001B[0;32m    846\u001B[0m         tb \u001B[38;5;241m=\u001B[39m exc_info()[\u001B[38;5;241m2\u001B[39m]\n",
      "File \u001B[1;32m~\\.conda\\envs\\Python3_8\\lib\\concurrent\\futures\\_base.py:451\u001B[0m, in \u001B[0;36mFuture.result\u001B[1;34m(self, timeout)\u001B[0m\n\u001B[0;32m    449\u001B[0m     \u001B[38;5;28;01mraise\u001B[39;00m CancelledError()\n\u001B[0;32m    450\u001B[0m \u001B[38;5;28;01melif\u001B[39;00m \u001B[38;5;28mself\u001B[39m\u001B[38;5;241m.\u001B[39m_state \u001B[38;5;241m==\u001B[39m FINISHED:\n\u001B[1;32m--> 451\u001B[0m     \u001B[38;5;28;01mreturn\u001B[39;00m \u001B[38;5;28;43mself\u001B[39;49m\u001B[38;5;241;43m.\u001B[39;49m\u001B[43m__get_result\u001B[49m\u001B[43m(\u001B[49m\u001B[43m)\u001B[49m\n\u001B[0;32m    453\u001B[0m \u001B[38;5;28mself\u001B[39m\u001B[38;5;241m.\u001B[39m_condition\u001B[38;5;241m.\u001B[39mwait(timeout)\n\u001B[0;32m    455\u001B[0m \u001B[38;5;28;01mif\u001B[39;00m \u001B[38;5;28mself\u001B[39m\u001B[38;5;241m.\u001B[39m_state \u001B[38;5;129;01min\u001B[39;00m [CANCELLED, CANCELLED_AND_NOTIFIED]:\n",
      "File \u001B[1;32m~\\.conda\\envs\\Python3_8\\lib\\concurrent\\futures\\_base.py:403\u001B[0m, in \u001B[0;36mFuture.__get_result\u001B[1;34m(self)\u001B[0m\n\u001B[0;32m    401\u001B[0m \u001B[38;5;28;01mif\u001B[39;00m \u001B[38;5;28mself\u001B[39m\u001B[38;5;241m.\u001B[39m_exception:\n\u001B[0;32m    402\u001B[0m     \u001B[38;5;28;01mtry\u001B[39;00m:\n\u001B[1;32m--> 403\u001B[0m         \u001B[38;5;28;01mraise\u001B[39;00m \u001B[38;5;28mself\u001B[39m\u001B[38;5;241m.\u001B[39m_exception\n\u001B[0;32m    404\u001B[0m     \u001B[38;5;28;01mfinally\u001B[39;00m:\n\u001B[0;32m    405\u001B[0m         \u001B[38;5;66;03m# Break a reference cycle with the exception in self._exception\u001B[39;00m\n\u001B[0;32m    406\u001B[0m         \u001B[38;5;28mself\u001B[39m \u001B[38;5;241m=\u001B[39m \u001B[38;5;28;01mNone\u001B[39;00m\n",
      "File \u001B[1;32m~\\.conda\\envs\\Python3_8\\lib\\concurrent\\futures\\thread.py:58\u001B[0m, in \u001B[0;36m_WorkItem.run\u001B[1;34m(self)\u001B[0m\n\u001B[0;32m     55\u001B[0m     \u001B[38;5;28;01mreturn\u001B[39;00m\n\u001B[0;32m     57\u001B[0m \u001B[38;5;28;01mtry\u001B[39;00m:\n\u001B[1;32m---> 58\u001B[0m     result \u001B[38;5;241m=\u001B[39m \u001B[38;5;28mself\u001B[39m\u001B[38;5;241m.\u001B[39mfn(\u001B[38;5;241m*\u001B[39m\u001B[38;5;28mself\u001B[39m\u001B[38;5;241m.\u001B[39margs, \u001B[38;5;241m*\u001B[39m\u001B[38;5;241m*\u001B[39m\u001B[38;5;28mself\u001B[39m\u001B[38;5;241m.\u001B[39mkwargs)\n\u001B[0;32m     59\u001B[0m \u001B[38;5;28;01mexcept\u001B[39;00m \u001B[38;5;167;01mBaseException\u001B[39;00m \u001B[38;5;28;01mas\u001B[39;00m exc:\n\u001B[0;32m     60\u001B[0m     \u001B[38;5;28mself\u001B[39m\u001B[38;5;241m.\u001B[39mfuture\u001B[38;5;241m.\u001B[39mset_exception(exc)\n",
      "File \u001B[1;32m~\\.conda\\envs\\Python3_8\\lib\\site-packages\\tensorflow_datasets\\core\\download\\downloader.py:233\u001B[0m, in \u001B[0;36m_Downloader._sync_download\u001B[1;34m(self, url, destination_path)\u001B[0m\n\u001B[0;32m    231\u001B[0m   response \u001B[38;5;241m=\u001B[39m session\u001B[38;5;241m.\u001B[39mget(url, stream\u001B[38;5;241m=\u001B[39m\u001B[38;5;28;01mTrue\u001B[39;00m)\n\u001B[0;32m    232\u001B[0m   \u001B[38;5;28;01mif\u001B[39;00m response\u001B[38;5;241m.\u001B[39mstatus_code \u001B[38;5;241m!=\u001B[39m \u001B[38;5;241m200\u001B[39m:\n\u001B[1;32m--> 233\u001B[0m     \u001B[38;5;28;01mraise\u001B[39;00m DownloadError(\u001B[38;5;124m'\u001B[39m\u001B[38;5;124mFailed to get url \u001B[39m\u001B[38;5;132;01m%s\u001B[39;00m\u001B[38;5;124m. HTTP code: \u001B[39m\u001B[38;5;132;01m%d\u001B[39;00m\u001B[38;5;124m.\u001B[39m\u001B[38;5;124m'\u001B[39m \u001B[38;5;241m%\u001B[39m\n\u001B[0;32m    234\u001B[0m                         (url, response\u001B[38;5;241m.\u001B[39mstatus_code))\n\u001B[0;32m    235\u001B[0m fname \u001B[38;5;241m=\u001B[39m _get_filename(response)\n\u001B[0;32m    236\u001B[0m path \u001B[38;5;241m=\u001B[39m os\u001B[38;5;241m.\u001B[39mpath\u001B[38;5;241m.\u001B[39mjoin(destination_path, fname)\n",
      "\u001B[1;31mDownloadError\u001B[0m: Failed to get url https://download.microsoft.com/download/3/E/1/3E1C3F21-ECDB-4869-8368-6DEBA77B919F/kagglecatsanddogs_3367a.zip. HTTP code: 404."
     ]
    }
   ],
   "source": [
    "\n",
    "(raw_train, raw_validation, raw_test), metadata = tfds.load(\n",
    "    'cats_vs_dogs',\n",
    "    split=['train[:80%]', 'train[80%:90%]', 'train[90%:]'],\n",
    "    with_info=True,\n",
    "    as_supervised=True,\n",
    ")\n",
    "\n",
    "num_examples = metadata.splits['train'].num_examples\n",
    "num_classes = metadata.features['label'].nu_classes\n",
    "print(num_examples)\n",
    "print(num_classes)"
   ],
   "metadata": {
    "collapsed": false,
    "ExecuteTime": {
     "end_time": "2023-11-20T00:39:07.925445900Z",
     "start_time": "2023-11-20T00:39:07.148293900Z"
    }
   },
   "id": "a37a8e034786af30"
  },
  {
   "cell_type": "code",
   "execution_count": null,
   "outputs": [],
   "source": [],
   "metadata": {
    "collapsed": false,
    "ExecuteTime": {
     "start_time": "2023-11-19T22:59:15.445810100Z"
    }
   },
   "id": "30b3f0da71508ba8"
  }
 ],
 "metadata": {
  "kernelspec": {
   "display_name": "Python 3",
   "language": "python",
   "name": "python3"
  },
  "language_info": {
   "codemirror_mode": {
    "name": "ipython",
    "version": 2
   },
   "file_extension": ".py",
   "mimetype": "text/x-python",
   "name": "python",
   "nbconvert_exporter": "python",
   "pygments_lexer": "ipython2",
   "version": "2.7.6"
  }
 },
 "nbformat": 4,
 "nbformat_minor": 5
}
