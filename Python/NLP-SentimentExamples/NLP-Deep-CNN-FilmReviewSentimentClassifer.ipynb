{
 "cells": [
  {
   "cell_type": "code",
   "execution_count": 1,
   "id": "initial_id",
   "metadata": {
    "collapsed": true,
    "ExecuteTime": {
     "end_time": "2023-09-11T01:58:07.532357900Z",
     "start_time": "2023-09-11T01:58:03.757738100Z"
    }
   },
   "outputs": [],
   "source": [
    "#import dependencies\n",
    "import keras\n",
    "from keras.datasets import imdb\n",
    "from keras.utils import pad_sequences\n",
    "from keras.models import Sequential\n",
    "from keras.layers import Dense, Flatten, Dropout, Embedding, Conv1D, GlobalMaxPool1D, SpatialDropout1D\n",
    "from keras.callbacks import ModelCheckpoint\n",
    "import os\n",
    "from sklearn.metrics import roc_auc_score, roc_curve\n",
    "import pandas as pd\n",
    "import matplotlib.pyplot as plt\n",
    "%matplotlib inline"
   ]
  },
  {
   "cell_type": "code",
   "execution_count": 2,
   "outputs": [],
   "source": [
    "#set hyperparameters\n",
    "output_dir = 'model_output/conv'\n",
    "\n",
    "#training\n",
    "epochs = 4\n",
    "batch_size = 128\n",
    "\n",
    "#vector-space embedding\n",
    "n_dim = 64\n",
    "n_unique_words = 5000\n",
    "max_review_length = 400\n",
    "pad_type = trunc_type = 'pre'\n",
    "drop_embed = 0.2\n",
    "\n",
    "#convolutional layer architecture\n",
    "n_conv = 256 #filters, aka kernels\n",
    "k_conv = 3 #kernel length\n",
    "\n",
    "#dense layer architecture\n",
    "n_dense = 256\n",
    "dropout = 0.2"
   ],
   "metadata": {
    "collapsed": false,
    "ExecuteTime": {
     "end_time": "2023-09-11T01:58:07.548270300Z",
     "start_time": "2023-09-11T01:58:07.534294600Z"
    }
   },
   "id": "7257135235d5bbe7"
  },
  {
   "cell_type": "code",
   "execution_count": 3,
   "outputs": [],
   "source": [
    "#model architecture\n",
    "model = Sequential()\n",
    "\n",
    "#vector-space embedding:\n",
    "model.add(Embedding(n_unique_words, n_dim,\n",
    "                    input_length=max_review_length))\n",
    "model.add(SpatialDropout1D(drop_embed))\n",
    "\n",
    "#convolutional layer:\n",
    "model.add(Conv1D(n_conv, k_conv, activation='relu'))\n",
    "#model.add(Conv1D(n_conv, k_conv, activation='relu'))\n",
    "model.add(GlobalMaxPool1D())\n",
    "\n",
    "#dense layer\n",
    "model.add(Dense(n_dense, activation='relu'))\n",
    "model.add(Dropout(dropout))\n",
    "\n",
    "#output layer\n",
    "model.add(Dense(1, activation='sigmoid'))"
   ],
   "metadata": {
    "collapsed": false,
    "ExecuteTime": {
     "end_time": "2023-09-11T01:58:07.643291200Z",
     "start_time": "2023-09-11T01:58:07.549266Z"
    }
   },
   "id": "5d43f7f90d20ee07"
  },
  {
   "cell_type": "code",
   "execution_count": 4,
   "outputs": [
    {
     "name": "stdout",
     "output_type": "stream",
     "text": [
      "Model: \"sequential\"\n",
      "_________________________________________________________________\n",
      " Layer (type)                Output Shape              Param #   \n",
      "=================================================================\n",
      " embedding (Embedding)       (None, 400, 64)           320000    \n",
      "                                                                 \n",
      " spatial_dropout1d (SpatialD  (None, 400, 64)          0         \n",
      " ropout1D)                                                       \n",
      "                                                                 \n",
      " conv1d (Conv1D)             (None, 398, 256)          49408     \n",
      "                                                                 \n",
      " global_max_pooling1d (Globa  (None, 256)              0         \n",
      " lMaxPooling1D)                                                  \n",
      "                                                                 \n",
      " dense (Dense)               (None, 256)               65792     \n",
      "                                                                 \n",
      " dropout (Dropout)           (None, 256)               0         \n",
      "                                                                 \n",
      " dense_1 (Dense)             (None, 1)                 257       \n",
      "                                                                 \n",
      "=================================================================\n",
      "Total params: 435,457\n",
      "Trainable params: 435,457\n",
      "Non-trainable params: 0\n",
      "_________________________________________________________________\n"
     ]
    }
   ],
   "source": [
    "model.summary()"
   ],
   "metadata": {
    "collapsed": false,
    "ExecuteTime": {
     "end_time": "2023-09-11T01:58:07.664219100Z",
     "start_time": "2023-09-11T01:58:07.644282Z"
    }
   },
   "id": "4780099495ba11aa"
  },
  {
   "cell_type": "code",
   "execution_count": 5,
   "outputs": [],
   "source": [
    "#data preprocessing\n",
    "(x_train, y_train), (x_valid, y_valid) = imdb.load_data(num_words=n_unique_words)\n",
    "#standardizing input length by padding and truncating\n",
    "x_train = pad_sequences(x_train, maxlen=max_review_length, padding=pad_type, truncating=trunc_type, value=0)\n",
    "x_valid = pad_sequences(x_valid, maxlen=max_review_length, padding=pad_type, truncating=trunc_type, value=0)"
   ],
   "metadata": {
    "collapsed": false,
    "ExecuteTime": {
     "end_time": "2023-09-11T01:58:10.770852600Z",
     "start_time": "2023-09-11T01:58:07.660236500Z"
    }
   },
   "id": "3d5ebfd087ba7499"
  },
  {
   "cell_type": "code",
   "execution_count": 6,
   "outputs": [],
   "source": [
    "model.compile(loss='binary_crossentropy', optimizer='adam', metrics=['accuracy'])"
   ],
   "metadata": {
    "collapsed": false,
    "ExecuteTime": {
     "end_time": "2023-09-11T01:58:10.786028300Z",
     "start_time": "2023-09-11T01:58:10.774839300Z"
    }
   },
   "id": "9015d0709c501d79"
  },
  {
   "cell_type": "code",
   "execution_count": 7,
   "outputs": [],
   "source": [
    "#Create an object and directory for checkpoint model parameters after each epoch\n",
    "modelcheckpoint = ModelCheckpoint(filepath=output_dir+\"/CNNweights.{epoch:02d}.hdf5\")\n",
    "\n",
    "if not os.path.exists((output_dir)):\n",
    "    os.makedirs(output_dir)"
   ],
   "metadata": {
    "collapsed": false,
    "ExecuteTime": {
     "end_time": "2023-09-11T01:58:10.802976100Z",
     "start_time": "2023-09-11T01:58:10.786028300Z"
    }
   },
   "id": "a851e3be19fe4d53"
  },
  {
   "cell_type": "code",
   "execution_count": 8,
   "outputs": [
    {
     "name": "stdout",
     "output_type": "stream",
     "text": [
      "Epoch 1/4\n",
      "196/196 [==============================] - 20s 101ms/step - loss: 0.4921 - accuracy: 0.7420 - val_loss: 0.2980 - val_accuracy: 0.8752\n",
      "Epoch 2/4\n",
      "196/196 [==============================] - 20s 102ms/step - loss: 0.2507 - accuracy: 0.9001 - val_loss: 0.2542 - val_accuracy: 0.8930\n",
      "Epoch 3/4\n",
      "196/196 [==============================] - 20s 104ms/step - loss: 0.1706 - accuracy: 0.9363 - val_loss: 0.2615 - val_accuracy: 0.8939\n",
      "Epoch 4/4\n",
      "196/196 [==============================] - 21s 105ms/step - loss: 0.1124 - accuracy: 0.9609 - val_loss: 0.2891 - val_accuracy: 0.8904\n"
     ]
    },
    {
     "data": {
      "text/plain": "<keras.callbacks.History at 0x206a767c370>"
     },
     "execution_count": 8,
     "metadata": {},
     "output_type": "execute_result"
    }
   ],
   "source": [
    "model.fit(x_train, y_train,\n",
    "          batch_size=batch_size, epochs=epochs, verbose=1,\n",
    "          validation_data=(x_valid, y_valid),\n",
    "          callbacks=[modelcheckpoint])"
   ],
   "metadata": {
    "collapsed": false,
    "ExecuteTime": {
     "end_time": "2023-09-11T01:59:31.974761400Z",
     "start_time": "2023-09-11T01:58:10.803973900Z"
    }
   },
   "id": "5f3109dc2aeaa3cd"
  },
  {
   "cell_type": "code",
   "execution_count": 9,
   "outputs": [],
   "source": [
    "model.load_weights(output_dir+\"/CNNweights.03.hdf5\")"
   ],
   "metadata": {
    "collapsed": false,
    "ExecuteTime": {
     "end_time": "2023-09-11T02:03:45.902497200Z",
     "start_time": "2023-09-11T02:03:45.879150800Z"
    }
   },
   "id": "b63231e8a25d4dcb"
  },
  {
   "cell_type": "code",
   "execution_count": 10,
   "outputs": [],
   "source": [
    "y_hat = model.predict_on_batch(x_valid)"
   ],
   "metadata": {
    "collapsed": false,
    "ExecuteTime": {
     "end_time": "2023-09-11T02:04:05.203026700Z",
     "start_time": "2023-09-11T02:04:00.278247100Z"
    }
   },
   "id": "f980a8f9c6d7152e"
  },
  {
   "cell_type": "code",
   "execution_count": 11,
   "outputs": [
    {
     "data": {
      "text/plain": "<Figure size 432x288 with 1 Axes>",
      "image/png": "[encoded data removed]"
     },
     "metadata": {
      "needs_background": "light"
     },
     "output_type": "display_data"
    }
   ],
   "source": [
    "plt.hist(y_hat)\n",
    "_ = plt.axvline(x=0.5, color='orange')"
   ],
   "metadata": {
    "collapsed": false,
    "ExecuteTime": {
     "end_time": "2023-09-11T02:04:21.432201400Z",
     "start_time": "2023-09-11T02:04:21.300625Z"
    }
   },
   "id": "46f714d7fd383ced"
  },
  {
   "cell_type": "code",
   "execution_count": 12,
   "outputs": [
    {
     "data": {
      "text/plain": "'96.07'"
     },
     "execution_count": 12,
     "metadata": {},
     "output_type": "execute_result"
    }
   ],
   "source": [
    "pct_auc = roc_auc_score(y_valid, y_hat) * 100\n",
    "\"{:0.2f}\".format(pct_auc)"
   ],
   "metadata": {
    "collapsed": false,
    "ExecuteTime": {
     "end_time": "2023-09-11T02:04:44.168045600Z",
     "start_time": "2023-09-11T02:04:44.152403100Z"
    }
   },
   "id": "91e5bd5ba316c0e5"
  },
  {
   "cell_type": "code",
   "execution_count": null,
   "outputs": [],
   "source": [],
   "metadata": {
    "collapsed": false
   },
   "id": "e0bf341442cbc17e"
  }
 ],
 "metadata": {
  "kernelspec": {
   "display_name": "Python 3",
   "language": "python",
   "name": "python3"
  },
  "language_info": {
   "codemirror_mode": {
    "name": "ipython",
    "version": 2
   },
   "file_extension": ".py",
   "mimetype": "text/x-python",
   "name": "python",
   "nbconvert_exporter": "python",
   "pygments_lexer": "ipython2",
   "version": "2.7.6"
  }
 },
 "nbformat": 4,
 "nbformat_minor": 5
}
