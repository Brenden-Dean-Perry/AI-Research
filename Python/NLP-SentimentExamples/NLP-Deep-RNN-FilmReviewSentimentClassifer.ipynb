{
 "cells": [
  {
   "cell_type": "code",
   "execution_count": 3,
   "id": "initial_id",
   "metadata": {
    "collapsed": true,
    "ExecuteTime": {
     "end_time": "2023-09-11T04:21:04.615312400Z",
     "start_time": "2023-09-11T04:21:04.594638700Z"
    }
   },
   "outputs": [],
   "source": [
    "#import dependencies\n",
    "import keras\n",
    "from keras.datasets import imdb\n",
    "from keras.utils import pad_sequences\n",
    "from keras.models import Sequential\n",
    "from keras.layers import Dense, Embedding, SpatialDropout1D, SimpleRNN\n",
    "from keras.callbacks import ModelCheckpoint\n",
    "import os\n",
    "from sklearn.metrics import roc_auc_score, roc_curve\n",
    "import pandas as pd\n",
    "import matplotlib.pyplot as plt\n",
    "%matplotlib inline"
   ]
  },
  {
   "cell_type": "code",
   "execution_count": 4,
   "outputs": [],
   "source": [
    "#set hyperparameters\n",
    "output_dir = 'model_output/rnn'\n",
    "\n",
    "#training\n",
    "epochs = 16\n",
    "batch_size = 128\n",
    "\n",
    "#vector-space embedding\n",
    "n_dim = 64\n",
    "n_unique_words = 10000\n",
    "max_review_length = 100 #lowered due to vanishing gradient over time\n",
    "pad_type = trunc_type = 'pre'\n",
    "drop_embed = 0.2\n",
    "\n",
    "#rnn layer architecture\n",
    "n_rnn = 256 \n",
    "drop_rnn = 0.2"
   ],
   "metadata": {
    "collapsed": false,
    "ExecuteTime": {
     "end_time": "2023-09-11T04:21:32.802332400Z",
     "start_time": "2023-09-11T04:21:32.787381500Z"
    }
   },
   "id": "7257135235d5bbe7"
  },
  {
   "cell_type": "code",
   "execution_count": 5,
   "outputs": [],
   "source": [
    "#model architecture\n",
    "model = Sequential()\n",
    "\n",
    "#vector-space embedding:\n",
    "model.add(Embedding(n_unique_words, n_dim,\n",
    "                    input_length=max_review_length))\n",
    "model.add(SpatialDropout1D(drop_embed))\n",
    "\n",
    "#rnn layer:\n",
    "model.add(SimpleRNN(n_rnn, dropout=drop_rnn))\n",
    "\n",
    "#output layer\n",
    "model.add(Dense(1, activation='sigmoid'))"
   ],
   "metadata": {
    "collapsed": false,
    "ExecuteTime": {
     "end_time": "2023-09-11T04:21:41.735867Z",
     "start_time": "2023-09-11T04:21:41.608498200Z"
    }
   },
   "id": "5d43f7f90d20ee07"
  },
  {
   "cell_type": "code",
   "execution_count": 6,
   "outputs": [
    {
     "name": "stdout",
     "output_type": "stream",
     "text": [
      "Model: \"sequential\"\n",
      "_________________________________________________________________\n",
      " Layer (type)                Output Shape              Param #   \n",
      "=================================================================\n",
      " embedding (Embedding)       (None, 100, 64)           640000    \n",
      "                                                                 \n",
      " spatial_dropout1d (SpatialD  (None, 100, 64)          0         \n",
      " ropout1D)                                                       \n",
      "                                                                 \n",
      " simple_rnn (SimpleRNN)      (None, 256)               82176     \n",
      "                                                                 \n",
      " dense (Dense)               (None, 1)                 257       \n",
      "                                                                 \n",
      "=================================================================\n",
      "Total params: 722,433\n",
      "Trainable params: 722,433\n",
      "Non-trainable params: 0\n",
      "_________________________________________________________________\n"
     ]
    }
   ],
   "source": [
    "model.summary()"
   ],
   "metadata": {
    "collapsed": false,
    "ExecuteTime": {
     "end_time": "2023-09-11T04:21:44.681661600Z",
     "start_time": "2023-09-11T04:21:44.661010700Z"
    }
   },
   "id": "4780099495ba11aa"
  },
  {
   "cell_type": "code",
   "execution_count": 7,
   "outputs": [],
   "source": [
    "#data preprocessing\n",
    "(x_train, y_train), (x_valid, y_valid) = imdb.load_data(num_words=n_unique_words)\n",
    "#standardizing input length by padding and truncating\n",
    "x_train = pad_sequences(x_train, maxlen=max_review_length, padding=pad_type, truncating=trunc_type, value=0)\n",
    "x_valid = pad_sequences(x_valid, maxlen=max_review_length, padding=pad_type, truncating=trunc_type, value=0)"
   ],
   "metadata": {
    "collapsed": false,
    "ExecuteTime": {
     "end_time": "2023-09-11T04:22:32.833533300Z",
     "start_time": "2023-09-11T04:22:30.049527600Z"
    }
   },
   "id": "3d5ebfd087ba7499"
  },
  {
   "cell_type": "code",
   "execution_count": 8,
   "outputs": [],
   "source": [
    "model.compile(loss='binary_crossentropy', optimizer='adam', metrics=['accuracy'])"
   ],
   "metadata": {
    "collapsed": false,
    "ExecuteTime": {
     "end_time": "2023-09-11T04:22:38.736030400Z",
     "start_time": "2023-09-11T04:22:38.718570Z"
    }
   },
   "id": "9015d0709c501d79"
  },
  {
   "cell_type": "code",
   "execution_count": 9,
   "outputs": [],
   "source": [
    "#Create an object and directory for checkpoint model parameters after each epoch\n",
    "modelcheckpoint = ModelCheckpoint(filepath=output_dir+\"/RNNweights.{epoch:02d}.hdf5\")\n",
    "\n",
    "if not os.path.exists((output_dir)):\n",
    "    os.makedirs(output_dir)"
   ],
   "metadata": {
    "collapsed": false,
    "ExecuteTime": {
     "end_time": "2023-09-11T04:22:48.880345100Z",
     "start_time": "2023-09-11T04:22:48.859415900Z"
    }
   },
   "id": "a851e3be19fe4d53"
  },
  {
   "cell_type": "code",
   "execution_count": 10,
   "outputs": [
    {
     "name": "stdout",
     "output_type": "stream",
     "text": [
      "Epoch 1/16\n",
      "196/196 [==============================] - 19s 91ms/step - loss: 0.6852 - accuracy: 0.5435 - val_loss: 0.6518 - val_accuracy: 0.5950\n",
      "Epoch 2/16\n",
      "196/196 [==============================] - 19s 97ms/step - loss: 0.6461 - accuracy: 0.6118 - val_loss: 0.6373 - val_accuracy: 0.6168\n",
      "Epoch 3/16\n",
      "196/196 [==============================] - 19s 98ms/step - loss: 0.5397 - accuracy: 0.7215 - val_loss: 0.6458 - val_accuracy: 0.6010\n",
      "Epoch 4/16\n",
      "196/196 [==============================] - 20s 102ms/step - loss: 0.4800 - accuracy: 0.7675 - val_loss: 0.5805 - val_accuracy: 0.6969\n",
      "Epoch 5/16\n",
      "196/196 [==============================] - 21s 106ms/step - loss: 0.6409 - accuracy: 0.6595 - val_loss: 0.6470 - val_accuracy: 0.6293\n",
      "Epoch 6/16\n",
      "196/196 [==============================] - 21s 105ms/step - loss: 0.5703 - accuracy: 0.7010 - val_loss: 0.5072 - val_accuracy: 0.7521\n",
      "Epoch 7/16\n",
      "196/196 [==============================] - 21s 105ms/step - loss: 0.5749 - accuracy: 0.7220 - val_loss: 0.6218 - val_accuracy: 0.6426\n",
      "Epoch 8/16\n",
      "196/196 [==============================] - 21s 105ms/step - loss: 0.5399 - accuracy: 0.7343 - val_loss: 0.6456 - val_accuracy: 0.6288\n",
      "Epoch 9/16\n",
      "196/196 [==============================] - 20s 102ms/step - loss: 0.4850 - accuracy: 0.7772 - val_loss: 0.5192 - val_accuracy: 0.7552\n",
      "Epoch 10/16\n",
      "196/196 [==============================] - 19s 99ms/step - loss: 0.5558 - accuracy: 0.7133 - val_loss: 0.6030 - val_accuracy: 0.6579\n",
      "Epoch 11/16\n",
      "196/196 [==============================] - 19s 99ms/step - loss: 0.5201 - accuracy: 0.7475 - val_loss: 0.6049 - val_accuracy: 0.7187\n",
      "Epoch 12/16\n",
      "196/196 [==============================] - 20s 100ms/step - loss: 0.4635 - accuracy: 0.7886 - val_loss: 0.5308 - val_accuracy: 0.7473\n",
      "Epoch 13/16\n",
      "196/196 [==============================] - 21s 107ms/step - loss: 0.5048 - accuracy: 0.7504 - val_loss: 0.6355 - val_accuracy: 0.6141\n",
      "Epoch 14/16\n",
      "196/196 [==============================] - 19s 98ms/step - loss: 0.5378 - accuracy: 0.7260 - val_loss: 0.5944 - val_accuracy: 0.6799\n",
      "Epoch 15/16\n",
      "196/196 [==============================] - 20s 101ms/step - loss: 0.4801 - accuracy: 0.7755 - val_loss: 0.5813 - val_accuracy: 0.7150\n",
      "Epoch 16/16\n",
      "196/196 [==============================] - 20s 103ms/step - loss: 0.5236 - accuracy: 0.7409 - val_loss: 0.6727 - val_accuracy: 0.6327\n"
     ]
    },
    {
     "data": {
      "text/plain": "<keras.callbacks.History at 0x1cd6a9136a0>"
     },
     "execution_count": 10,
     "metadata": {},
     "output_type": "execute_result"
    }
   ],
   "source": [
    "model.fit(x_train, y_train,\n",
    "          batch_size=batch_size, epochs=epochs, verbose=1,\n",
    "          validation_data=(x_valid, y_valid),\n",
    "          callbacks=[modelcheckpoint])"
   ],
   "metadata": {
    "collapsed": false,
    "ExecuteTime": {
     "end_time": "2023-09-11T04:28:25.782142500Z",
     "start_time": "2023-09-11T04:23:08.487457Z"
    }
   },
   "id": "5f3109dc2aeaa3cd"
  },
  {
   "cell_type": "code",
   "execution_count": 11,
   "outputs": [],
   "source": [
    "model.load_weights(output_dir+\"/RNNweights.09.hdf5\")"
   ],
   "metadata": {
    "collapsed": false,
    "ExecuteTime": {
     "end_time": "2023-09-11T04:28:49.866859Z",
     "start_time": "2023-09-11T04:28:49.839477100Z"
    }
   },
   "id": "b63231e8a25d4dcb"
  },
  {
   "cell_type": "code",
   "execution_count": 12,
   "outputs": [],
   "source": [
    "y_hat = model.predict_on_batch(x_valid)"
   ],
   "metadata": {
    "collapsed": false,
    "ExecuteTime": {
     "end_time": "2023-09-11T04:28:54.529284800Z",
     "start_time": "2023-09-11T04:28:52.553857500Z"
    }
   },
   "id": "f980a8f9c6d7152e"
  },
  {
   "cell_type": "code",
   "execution_count": 13,
   "outputs": [
    {
     "data": {
      "text/plain": "<Figure size 432x288 with 1 Axes>",
      "image/png": "[encoded data removed]"
     },
     "metadata": {
      "needs_background": "light"
     },
     "output_type": "display_data"
    }
   ],
   "source": [
    "plt.hist(y_hat)\n",
    "_ = plt.axvline(x=0.5, color='orange')"
   ],
   "metadata": {
    "collapsed": false,
    "ExecuteTime": {
     "end_time": "2023-09-11T04:28:56.421599900Z",
     "start_time": "2023-09-11T04:28:56.295446900Z"
    }
   },
   "id": "46f714d7fd383ced"
  },
  {
   "cell_type": "code",
   "execution_count": 14,
   "outputs": [
    {
     "data": {
      "text/plain": "'82.48'"
     },
     "execution_count": 14,
     "metadata": {},
     "output_type": "execute_result"
    }
   ],
   "source": [
    "pct_auc = roc_auc_score(y_valid, y_hat) * 100\n",
    "\"{:0.2f}\".format(pct_auc)"
   ],
   "metadata": {
    "collapsed": false,
    "ExecuteTime": {
     "end_time": "2023-09-11T04:29:01.205227400Z",
     "start_time": "2023-09-11T04:29:01.174546200Z"
    }
   },
   "id": "91e5bd5ba316c0e5"
  },
  {
   "cell_type": "code",
   "execution_count": null,
   "outputs": [],
   "source": [],
   "metadata": {
    "collapsed": false
   },
   "id": "e0bf341442cbc17e"
  }
 ],
 "metadata": {
  "kernelspec": {
   "display_name": "Python 3",
   "language": "python",
   "name": "python3"
  },
  "language_info": {
   "codemirror_mode": {
    "name": "ipython",
    "version": 2
   },
   "file_extension": ".py",
   "mimetype": "text/x-python",
   "name": "python",
   "nbconvert_exporter": "python",
   "pygments_lexer": "ipython2",
   "version": "2.7.6"
  }
 },
 "nbformat": 4,
 "nbformat_minor": 5
}
