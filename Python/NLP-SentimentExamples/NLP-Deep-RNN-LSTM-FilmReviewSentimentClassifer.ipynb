{
 "cells": [
  {
   "cell_type": "code",
   "execution_count": 3,
   "id": "initial_id",
   "metadata": {
    "collapsed": true,
    "ExecuteTime": {
     "end_time": "2023-09-13T03:53:42.755844900Z",
     "start_time": "2023-09-13T03:53:40.934034600Z"
    }
   },
   "outputs": [],
   "source": [
    "#import dependencies\n",
    "import keras\n",
    "from keras.datasets import imdb\n",
    "from keras.utils import pad_sequences\n",
    "from keras.models import Sequential\n",
    "from keras.layers import Dense, Embedding, SpatialDropout1D, LSTM\n",
    "from keras.callbacks import ModelCheckpoint\n",
    "import os\n",
    "from sklearn.metrics import roc_auc_score, roc_curve\n",
    "import pandas as pd\n",
    "import matplotlib.pyplot as plt\n",
    "%matplotlib inline"
   ]
  },
  {
   "cell_type": "code",
   "execution_count": 4,
   "outputs": [],
   "source": [
    "#set hyperparameters\n",
    "output_dir = 'model_output/rnn_LSTM'\n",
    "\n",
    "#training\n",
    "epochs = 4\n",
    "batch_size = 128\n",
    "\n",
    "#vector-space embedding\n",
    "n_dim = 64\n",
    "n_unique_words = 10000\n",
    "max_review_length = 100 #lowered due to vanishing gradient over time\n",
    "pad_type = trunc_type = 'pre'\n",
    "drop_embed = 0.2\n",
    "\n",
    "#lstm layer architecture\n",
    "n_lstm = 256\n",
    "drop_lstm = 0.2"
   ],
   "metadata": {
    "collapsed": false,
    "ExecuteTime": {
     "end_time": "2023-09-13T03:53:44.993409500Z",
     "start_time": "2023-09-13T03:53:44.977439400Z"
    }
   },
   "id": "7257135235d5bbe7"
  },
  {
   "cell_type": "code",
   "execution_count": 3,
   "outputs": [],
   "source": [
    "#model architecture\n",
    "model = Sequential()\n",
    "\n",
    "#vector-space embedding:\n",
    "model.add(Embedding(n_unique_words, n_dim,\n",
    "                    input_length=max_review_length))\n",
    "model.add(SpatialDropout1D(drop_embed))\n",
    "\n",
    "#rnn LSTM layer:\n",
    "model.add(LSTM(n_lstm, dropout=drop_lstm))\n",
    "\n",
    "#output layer\n",
    "model.add(Dense(1, activation='sigmoid'))"
   ],
   "metadata": {
    "collapsed": false,
    "ExecuteTime": {
     "end_time": "2023-09-12T03:40:08.563843900Z",
     "start_time": "2023-09-12T03:40:07.193879Z"
    }
   },
   "id": "5d43f7f90d20ee07"
  },
  {
   "cell_type": "code",
   "execution_count": 4,
   "outputs": [
    {
     "name": "stdout",
     "output_type": "stream",
     "text": [
      "Model: \"sequential\"\n",
      "_________________________________________________________________\n",
      " Layer (type)                Output Shape              Param #   \n",
      "=================================================================\n",
      " embedding (Embedding)       (None, 100, 64)           640000    \n",
      "                                                                 \n",
      " spatial_dropout1d (SpatialD  (None, 100, 64)          0         \n",
      " ropout1D)                                                       \n",
      "                                                                 \n",
      " lstm (LSTM)                 (None, 256)               328704    \n",
      "                                                                 \n",
      " dense (Dense)               (None, 1)                 257       \n",
      "                                                                 \n",
      "=================================================================\n",
      "Total params: 968,961\n",
      "Trainable params: 968,961\n",
      "Non-trainable params: 0\n",
      "_________________________________________________________________\n"
     ]
    }
   ],
   "source": [
    "model.summary()"
   ],
   "metadata": {
    "collapsed": false,
    "ExecuteTime": {
     "end_time": "2023-09-12T03:40:08.641175700Z",
     "start_time": "2023-09-12T03:40:08.564845700Z"
    }
   },
   "id": "4780099495ba11aa"
  },
  {
   "cell_type": "code",
   "execution_count": 9,
   "outputs": [],
   "source": [
    "#data preprocessing\n",
    "(x_train, y_train), (x_valid, y_valid) = imdb.load_data(num_words=n_unique_words)\n",
    "#standardizing input length by padding and truncating\n",
    "x_train = pad_sequences(x_train, maxlen=max_review_length, padding=pad_type, truncating=trunc_type, value=0)\n",
    "x_valid = pad_sequences(x_valid, maxlen=max_review_length, padding=pad_type, truncating=trunc_type, value=0)"
   ],
   "metadata": {
    "collapsed": false,
    "ExecuteTime": {
     "end_time": "2023-09-13T03:54:21.678645700Z",
     "start_time": "2023-09-13T03:54:18.462138400Z"
    }
   },
   "id": "3d5ebfd087ba7499"
  },
  {
   "cell_type": "code",
   "execution_count": 6,
   "outputs": [],
   "source": [
    "model.compile(loss='binary_crossentropy', optimizer='adam', metrics=['accuracy'])"
   ],
   "metadata": {
    "collapsed": false,
    "ExecuteTime": {
     "end_time": "2023-09-12T03:40:12.616966600Z",
     "start_time": "2023-09-12T03:40:12.563145800Z"
    }
   },
   "id": "9015d0709c501d79"
  },
  {
   "cell_type": "code",
   "execution_count": 7,
   "outputs": [],
   "source": [
    "#Create an object and directory for checkpoint model parameters after each epoch\n",
    "modelcheckpoint = ModelCheckpoint(filepath=output_dir+\"/RNNweights.{epoch:02d}.hdf5\")\n",
    "\n",
    "if not os.path.exists((output_dir)):\n",
    "    os.makedirs(output_dir)"
   ],
   "metadata": {
    "collapsed": false,
    "ExecuteTime": {
     "end_time": "2023-09-12T03:40:12.617966100Z",
     "start_time": "2023-09-12T03:40:12.592049700Z"
    }
   },
   "id": "a851e3be19fe4d53"
  },
  {
   "cell_type": "code",
   "execution_count": 8,
   "outputs": [
    {
     "name": "stdout",
     "output_type": "stream",
     "text": [
      "Epoch 1/4\n",
      "196/196 [==============================] - 138s 698ms/step - loss: 0.4557 - accuracy: 0.7704 - val_loss: 0.3700 - val_accuracy: 0.8444\n",
      "Epoch 2/4\n",
      "196/196 [==============================] - 140s 717ms/step - loss: 0.2833 - accuracy: 0.8870 - val_loss: 0.3468 - val_accuracy: 0.8493\n",
      "Epoch 3/4\n",
      "196/196 [==============================] - 137s 700ms/step - loss: 0.2359 - accuracy: 0.9068 - val_loss: 0.3677 - val_accuracy: 0.8454\n",
      "Epoch 4/4\n",
      "196/196 [==============================] - 138s 704ms/step - loss: 0.1887 - accuracy: 0.9278 - val_loss: 0.3820 - val_accuracy: 0.8395\n"
     ]
    },
    {
     "data": {
      "text/plain": "<keras.callbacks.History at 0x232de0fa4c0>"
     },
     "execution_count": 8,
     "metadata": {},
     "output_type": "execute_result"
    }
   ],
   "source": [
    "model.fit(x_train, y_train,\n",
    "          batch_size=batch_size, epochs=epochs, verbose=1,\n",
    "          validation_data=(x_valid, y_valid),\n",
    "          callbacks=[modelcheckpoint])"
   ],
   "metadata": {
    "collapsed": false,
    "ExecuteTime": {
     "end_time": "2023-09-12T03:49:26.399004200Z",
     "start_time": "2023-09-12T03:40:12.608993800Z"
    }
   },
   "id": "5f3109dc2aeaa3cd"
  },
  {
   "cell_type": "code",
   "execution_count": 11,
   "outputs": [],
   "source": [
    "model.load_weights(output_dir+\"/RNNweights.02.hdf5\")"
   ],
   "metadata": {
    "collapsed": false,
    "ExecuteTime": {
     "end_time": "2023-09-12T03:50:15.900498400Z",
     "start_time": "2023-09-12T03:50:15.862621400Z"
    }
   },
   "id": "b63231e8a25d4dcb"
  },
  {
   "cell_type": "code",
   "execution_count": 12,
   "outputs": [],
   "source": [
    "y_hat = model.predict_on_batch(x_valid)"
   ],
   "metadata": {
    "collapsed": false,
    "ExecuteTime": {
     "end_time": "2023-09-12T03:50:32.225451100Z",
     "start_time": "2023-09-12T03:50:17.926916200Z"
    }
   },
   "id": "f980a8f9c6d7152e"
  },
  {
   "cell_type": "code",
   "execution_count": 13,
   "outputs": [
    {
     "data": {
      "text/plain": "<Figure size 432x288 with 1 Axes>",
      "image/png": "[encoded data removed]"
     },
     "metadata": {
      "needs_background": "light"
     },
     "output_type": "display_data"
    }
   ],
   "source": [
    "plt.hist(y_hat)\n",
    "_ = plt.axvline(x=0.5, color='orange')"
   ],
   "metadata": {
    "collapsed": false,
    "ExecuteTime": {
     "end_time": "2023-09-12T03:50:32.421793Z",
     "start_time": "2023-09-12T03:50:32.236414Z"
    }
   },
   "id": "46f714d7fd383ced"
  },
  {
   "cell_type": "code",
   "execution_count": 14,
   "outputs": [
    {
     "data": {
      "text/plain": "'93.04'"
     },
     "execution_count": 14,
     "metadata": {},
     "output_type": "execute_result"
    }
   ],
   "source": [
    "pct_auc = roc_auc_score(y_valid, y_hat) * 100\n",
    "\"{:0.2f}\".format(pct_auc)"
   ],
   "metadata": {
    "collapsed": false,
    "ExecuteTime": {
     "end_time": "2023-09-12T03:50:37.724588400Z",
     "start_time": "2023-09-12T03:50:37.659805900Z"
    }
   },
   "id": "91e5bd5ba316c0e5"
  },
  {
   "cell_type": "code",
   "execution_count": 1,
   "outputs": [],
   "source": [
    "from keras.layers import Bidirectional"
   ],
   "metadata": {
    "collapsed": false,
    "ExecuteTime": {
     "end_time": "2023-09-13T03:53:34.521540700Z",
     "start_time": "2023-09-13T03:53:27.713246100Z"
    }
   },
   "id": "e0bf341442cbc17e"
  },
  {
   "cell_type": "code",
   "execution_count": 5,
   "outputs": [],
   "source": [
    "#model architecture\n",
    "bi_model = Sequential()\n",
    "\n",
    "#vector-space embedding:\n",
    "bi_model.add(Embedding(n_unique_words, n_dim,\n",
    "                       input_length=max_review_length))\n",
    "bi_model.add(SpatialDropout1D(drop_embed))\n",
    "\n",
    "#rnn LSTM layer:\n",
    "bi_model.add(Bidirectional(LSTM(n_lstm, dropout=drop_lstm)))\n",
    "\n",
    "#output layer\n",
    "bi_model.add(Dense(1, activation='sigmoid'))"
   ],
   "metadata": {
    "collapsed": false,
    "ExecuteTime": {
     "end_time": "2023-09-13T03:54:00.890723700Z",
     "start_time": "2023-09-13T03:54:00.400984100Z"
    }
   },
   "id": "906ad1ebca9e4961"
  },
  {
   "cell_type": "code",
   "execution_count": 6,
   "outputs": [],
   "source": [
    "bi_model.compile(loss='binary_crossentropy', optimizer='adam', metrics=['accuracy'])"
   ],
   "metadata": {
    "collapsed": false,
    "ExecuteTime": {
     "end_time": "2023-09-13T03:54:06.323671100Z",
     "start_time": "2023-09-13T03:54:06.300565Z"
    }
   },
   "id": "2765a961d5851f8d"
  },
  {
   "cell_type": "code",
   "execution_count": 7,
   "outputs": [],
   "source": [
    "\n",
    "output_dir = 'model_output/rnn_Bi-LSTM'\n",
    "\n",
    "#Create an object and directory for checkpoint model parameters after each epoch\n",
    "modelcheckpoint = ModelCheckpoint(filepath=output_dir+\"/RNN-bi-LSTM-weights.{epoch:02d}.hdf5\")\n",
    "\n",
    "if not os.path.exists((output_dir)):\n",
    "    os.makedirs(output_dir)"
   ],
   "metadata": {
    "collapsed": false,
    "ExecuteTime": {
     "end_time": "2023-09-13T03:54:08.985106400Z",
     "start_time": "2023-09-13T03:54:08.967170600Z"
    }
   },
   "id": "11d4c7599b4a0188"
  },
  {
   "cell_type": "code",
   "execution_count": 10,
   "outputs": [
    {
     "name": "stdout",
     "output_type": "stream",
     "text": [
      "Epoch 1/4\n",
      "196/196 [==============================] - 258s 1s/step - loss: 0.4969 - accuracy: 0.7459 - val_loss: 0.4350 - val_accuracy: 0.8267\n",
      "Epoch 2/4\n",
      "196/196 [==============================] - 234s 1s/step - loss: 0.2910 - accuracy: 0.8818 - val_loss: 0.3500 - val_accuracy: 0.8454\n",
      "Epoch 3/4\n",
      "196/196 [==============================] - 243s 1s/step - loss: 0.2397 - accuracy: 0.9061 - val_loss: 0.3794 - val_accuracy: 0.8469\n",
      "Epoch 4/4\n",
      "196/196 [==============================] - 257s 1s/step - loss: 0.2002 - accuracy: 0.9241 - val_loss: 0.3900 - val_accuracy: 0.8445\n"
     ]
    },
    {
     "data": {
      "text/plain": "<keras.callbacks.History at 0x20d5d129c10>"
     },
     "execution_count": 10,
     "metadata": {},
     "output_type": "execute_result"
    }
   ],
   "source": [
    "bi_model.fit(x_train, y_train,\n",
    "          batch_size=batch_size, epochs=epochs, verbose=1,\n",
    "          validation_data=(x_valid, y_valid),\n",
    "          callbacks=[modelcheckpoint])"
   ],
   "metadata": {
    "collapsed": false,
    "ExecuteTime": {
     "end_time": "2023-09-13T04:10:59.773713200Z",
     "start_time": "2023-09-13T03:54:26.544281600Z"
    }
   },
   "id": "8601f80379e6f828"
  },
  {
   "cell_type": "code",
   "execution_count": null,
   "outputs": [],
   "source": [
    "#stacked bidirectional LSTM RNN\n",
    "st_bi_model = Sequential()\n",
    "st_bi_model.add(Embedding(n_unique_words, n_dim, \n",
    "                          input_length=max_review_length))\n",
    "st_bi_model.add(SpatialDropout1D(drop_embed))\n",
    "st_bi_model.add(Bidirectional(LSTM(n_lstm, dropout=drop_lstm,\n",
    "                                   return_sequences=True)))\n",
    "st_bi_model.add(Bidirectional(LSTM(n_lstm, dropout=drop_lstm)))\n",
    "st_bi_model.add(Dense(1, activation='sigmoid'))"
   ],
   "metadata": {
    "collapsed": false
   },
   "id": "d646f2376f8ba7e8"
  }
 ],
 "metadata": {
  "kernelspec": {
   "display_name": "Python 3",
   "language": "python",
   "name": "python3"
  },
  "language_info": {
   "codemirror_mode": {
    "name": "ipython",
    "version": 2
   },
   "file_extension": ".py",
   "mimetype": "text/x-python",
   "name": "python",
   "nbconvert_exporter": "python",
   "pygments_lexer": "ipython2",
   "version": "2.7.6"
  }
 },
 "nbformat": 4,
 "nbformat_minor": 5
}
