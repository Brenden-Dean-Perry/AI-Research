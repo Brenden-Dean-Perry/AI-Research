{
 "cells": [
  {
   "cell_type": "code",
   "execution_count": 1,
   "id": "initial_id",
   "metadata": {
    "collapsed": true,
    "ExecuteTime": {
     "end_time": "2023-09-14T04:30:12.954627500Z",
     "start_time": "2023-09-14T04:30:00.188039800Z"
    }
   },
   "outputs": [],
   "source": [
    "#import dependencies\n",
    "import keras\n",
    "from keras.datasets import imdb\n",
    "from keras.utils import pad_sequences\n",
    "from keras.models import Model\n",
    "from keras.layers import Dense, Embedding, SpatialDropout1D, Input, concatenate, Conv1D, GlobalMaxPool1D, Dropout\n",
    "from keras.callbacks import ModelCheckpoint\n",
    "import os\n",
    "from sklearn.metrics import roc_auc_score, roc_curve\n",
    "import pandas as pd\n",
    "import matplotlib.pyplot as plt\n",
    "%matplotlib inline"
   ]
  },
  {
   "cell_type": "code",
   "execution_count": 2,
   "outputs": [],
   "source": [
    "#set hyperparameters\n",
    "output_dir = 'model_output/multiconv'\n",
    "\n",
    "#training\n",
    "epochs = 4\n",
    "batch_size = 128\n",
    "\n",
    "#vector-space embedding\n",
    "n_dim = 64\n",
    "n_unique_words = 5000\n",
    "max_review_length = 400 \n",
    "pad_type = trunc_type = 'pre'\n",
    "drop_embed = 0.2\n",
    "\n",
    "#convolutional layer architecture\n",
    "n_conv_1 = n_conv_2 = n_conv_3 = 256\n",
    "k_conv_1 = 3\n",
    "k_conv_2 = 2\n",
    "k_conv_3 = 4\n",
    "\n",
    "#dense layer architecture\n",
    "n_dense = 256\n",
    "dropout = 0.2"
   ],
   "metadata": {
    "collapsed": false,
    "ExecuteTime": {
     "end_time": "2023-09-14T04:30:12.955616700Z",
     "start_time": "2023-09-14T04:30:12.939227700Z"
    }
   },
   "id": "7257135235d5bbe7"
  },
  {
   "cell_type": "code",
   "execution_count": 7,
   "outputs": [],
   "source": [
    "#model architecture\n",
    "#input layer:\n",
    "input_layer = Input(shape=(max_review_length,),\n",
    "                    dtype='int16', name='input')\n",
    "\n",
    "#embedding:\n",
    "embedding_layer = Embedding(n_unique_words, n_dim,\n",
    "                    name='embedding')(input_layer)\n",
    "drop_embed_layer = SpatialDropout1D(drop_embed, name='drop_embed')(embedding_layer)\n",
    "\n",
    "\n",
    "#three parallel convolutional streams\n",
    "conv_1 = Conv1D(n_conv_1, k_conv_1,\n",
    "                activation='relu', name='conv_1')(drop_embed_layer)\n",
    "maxp_1 = GlobalMaxPool1D(name='maxp_1')(conv_1)\n",
    "\n",
    "conv_2 = Conv1D(n_conv_2, k_conv_2,\n",
    "                activation='relu', name='conv_2')(drop_embed_layer)\n",
    "maxp_2 = GlobalMaxPool1D(name='maxp_2')(conv_2)\n",
    "\n",
    "conv_3 = Conv1D(n_conv_3, k_conv_3,\n",
    "                  activation='relu', name='conv_3')(drop_embed_layer)\n",
    "maxp_3 = GlobalMaxPool1D(name='maxp_3')(conv_3)\n",
    "\n",
    "#concatenate the activations from the three streams\n",
    "concat = concatenate([maxp_1,maxp_2, maxp_3])\n",
    "\n",
    "#dense hidden layers\n",
    "dense_layer = Dense(n_dense,\n",
    "                    activation='relu', name='dense')(concat)\n",
    "drop_dense_layer = Dropout(dropout, name='drop_dense')(dense_layer)\n",
    "dense_2 = Dense(int(n_dense/4),\n",
    "                activation='relu', name='dense_2')(drop_dense_layer)\n",
    "dropout_2 = Dropout(dropout, name='drop_dense_2')(dense_2)\n",
    "\n",
    "#output layer\n",
    "predictions = Dense(1, activation='sigmoid', name='output')(dropout_2)\n",
    "\n",
    "#create model\n",
    "model = Model(input_layer, predictions)"
   ],
   "metadata": {
    "collapsed": false,
    "ExecuteTime": {
     "end_time": "2023-09-14T04:32:07.261138800Z",
     "start_time": "2023-09-14T04:32:05.945816Z"
    }
   },
   "id": "5d43f7f90d20ee07"
  },
  {
   "cell_type": "code",
   "execution_count": 8,
   "outputs": [
    {
     "name": "stdout",
     "output_type": "stream",
     "text": [
      "Model: \"model\"\n",
      "__________________________________________________________________________________________________\n",
      " Layer (type)                   Output Shape         Param #     Connected to                     \n",
      "==================================================================================================\n",
      " input (InputLayer)             [(None, 400)]        0           []                               \n",
      "                                                                                                  \n",
      " embedding (Embedding)          (None, 400, 64)      320000      ['input[0][0]']                  \n",
      "                                                                                                  \n",
      " drop_embed (SpatialDropout1D)  (None, 400, 64)      0           ['embedding[0][0]']              \n",
      "                                                                                                  \n",
      " conv_1 (Conv1D)                (None, 398, 256)     49408       ['drop_embed[0][0]']             \n",
      "                                                                                                  \n",
      " conv_2 (Conv1D)                (None, 399, 256)     33024       ['drop_embed[0][0]']             \n",
      "                                                                                                  \n",
      " conv_3 (Conv1D)                (None, 397, 256)     65792       ['drop_embed[0][0]']             \n",
      "                                                                                                  \n",
      " maxp_1 (GlobalMaxPooling1D)    (None, 256)          0           ['conv_1[0][0]']                 \n",
      "                                                                                                  \n",
      " maxp_2 (GlobalMaxPooling1D)    (None, 256)          0           ['conv_2[0][0]']                 \n",
      "                                                                                                  \n",
      " maxp_3 (GlobalMaxPooling1D)    (None, 256)          0           ['conv_3[0][0]']                 \n",
      "                                                                                                  \n",
      " concatenate (Concatenate)      (None, 768)          0           ['maxp_1[0][0]',                 \n",
      "                                                                  'maxp_2[0][0]',                 \n",
      "                                                                  'maxp_3[0][0]']                 \n",
      "                                                                                                  \n",
      " dense (Dense)                  (None, 256)          196864      ['concatenate[0][0]']            \n",
      "                                                                                                  \n",
      " drop_dense (Dropout)           (None, 256)          0           ['dense[0][0]']                  \n",
      "                                                                                                  \n",
      " dense_2 (Dense)                (None, 64)           16448       ['drop_dense[0][0]']             \n",
      "                                                                                                  \n",
      " drop_dense_2 (Dropout)         (None, 64)           0           ['dense_2[0][0]']                \n",
      "                                                                                                  \n",
      " output (Dense)                 (None, 1)            65          ['drop_dense_2[0][0]']           \n",
      "                                                                                                  \n",
      "==================================================================================================\n",
      "Total params: 681,601\n",
      "Trainable params: 681,601\n",
      "Non-trainable params: 0\n",
      "__________________________________________________________________________________________________\n"
     ]
    }
   ],
   "source": [
    "model.summary()"
   ],
   "metadata": {
    "collapsed": false,
    "ExecuteTime": {
     "end_time": "2023-09-14T04:32:10.717674700Z",
     "start_time": "2023-09-14T04:32:10.635953900Z"
    }
   },
   "id": "4780099495ba11aa"
  },
  {
   "cell_type": "code",
   "execution_count": 5,
   "outputs": [],
   "source": [
    "#data preprocessing\n",
    "(x_train, y_train), (x_valid, y_valid) = imdb.load_data(num_words=n_unique_words)\n",
    "#standardizing input length by padding and truncating\n",
    "x_train = pad_sequences(x_train, maxlen=max_review_length, padding=pad_type, truncating=trunc_type, value=0)\n",
    "x_valid = pad_sequences(x_valid, maxlen=max_review_length, padding=pad_type, truncating=trunc_type, value=0)"
   ],
   "metadata": {
    "collapsed": false,
    "ExecuteTime": {
     "end_time": "2023-09-14T04:30:49.467644Z",
     "start_time": "2023-09-14T04:30:45.287645300Z"
    }
   },
   "id": "3d5ebfd087ba7499"
  },
  {
   "cell_type": "code",
   "execution_count": 9,
   "outputs": [],
   "source": [
    "model.compile(loss='binary_crossentropy', optimizer='adam', metrics=['accuracy'])"
   ],
   "metadata": {
    "collapsed": false,
    "ExecuteTime": {
     "end_time": "2023-09-14T04:32:25.772935Z",
     "start_time": "2023-09-14T04:32:25.719031400Z"
    }
   },
   "id": "9015d0709c501d79"
  },
  {
   "cell_type": "code",
   "execution_count": 10,
   "outputs": [],
   "source": [
    "#Create an object and directory for checkpoint model parameters after each epoch\n",
    "modelcheckpoint = ModelCheckpoint(filepath=output_dir+\"/Multi-CNNweights.{epoch:02d}.hdf5\")\n",
    "\n",
    "if not os.path.exists((output_dir)):\n",
    "    os.makedirs(output_dir)"
   ],
   "metadata": {
    "collapsed": false,
    "ExecuteTime": {
     "end_time": "2023-09-14T04:32:31.262466400Z",
     "start_time": "2023-09-14T04:32:31.210124200Z"
    }
   },
   "id": "a851e3be19fe4d53"
  },
  {
   "cell_type": "code",
   "execution_count": 11,
   "outputs": [
    {
     "name": "stdout",
     "output_type": "stream",
     "text": [
      "Epoch 1/4\n",
      "196/196 [==============================] - 74s 373ms/step - loss: 0.4975 - accuracy: 0.7274 - val_loss: 0.3191 - val_accuracy: 0.8617\n",
      "Epoch 2/4\n",
      "196/196 [==============================] - 72s 365ms/step - loss: 0.2497 - accuracy: 0.9009 - val_loss: 0.2615 - val_accuracy: 0.8935\n",
      "Epoch 3/4\n",
      "196/196 [==============================] - 73s 374ms/step - loss: 0.1718 - accuracy: 0.9369 - val_loss: 0.2742 - val_accuracy: 0.8915\n",
      "Epoch 4/4\n",
      "196/196 [==============================] - 76s 389ms/step - loss: 0.1235 - accuracy: 0.9573 - val_loss: 0.2962 - val_accuracy: 0.8917\n"
     ]
    },
    {
     "data": {
      "text/plain": "<keras.callbacks.History at 0x248071c99d0>"
     },
     "execution_count": 11,
     "metadata": {},
     "output_type": "execute_result"
    }
   ],
   "source": [
    "model.fit(x_train, y_train,\n",
    "          batch_size=batch_size, epochs=epochs, verbose=1,\n",
    "          validation_data=(x_valid, y_valid),\n",
    "          callbacks=[modelcheckpoint])"
   ],
   "metadata": {
    "collapsed": false,
    "ExecuteTime": {
     "end_time": "2023-09-14T04:37:44.874184Z",
     "start_time": "2023-09-14T04:32:49.838658300Z"
    }
   },
   "id": "5f3109dc2aeaa3cd"
  },
  {
   "cell_type": "code",
   "execution_count": 12,
   "outputs": [],
   "source": [
    "model.load_weights(output_dir+\"/Multi-CNNweights.02.hdf5\")"
   ],
   "metadata": {
    "collapsed": false,
    "ExecuteTime": {
     "end_time": "2023-09-14T04:38:03.228721600Z",
     "start_time": "2023-09-14T04:38:03.134109700Z"
    }
   },
   "id": "b63231e8a25d4dcb"
  },
  {
   "cell_type": "code",
   "execution_count": 13,
   "outputs": [],
   "source": [
    "y_hat = model.predict_on_batch(x_valid)"
   ],
   "metadata": {
    "collapsed": false,
    "ExecuteTime": {
     "end_time": "2023-09-14T04:39:11.236704600Z",
     "start_time": "2023-09-14T04:38:05.727984Z"
    }
   },
   "id": "f980a8f9c6d7152e"
  },
  {
   "cell_type": "code",
   "execution_count": 14,
   "outputs": [
    {
     "data": {
      "text/plain": "<Figure size 432x288 with 1 Axes>",
      "image/png": "[encoded data removed]"
     },
     "metadata": {
      "needs_background": "light"
     },
     "output_type": "display_data"
    }
   ],
   "source": [
    "plt.hist(y_hat)\n",
    "_ = plt.axvline(x=0.5, color='orange')"
   ],
   "metadata": {
    "collapsed": false,
    "ExecuteTime": {
     "end_time": "2023-09-14T04:39:13.892814Z",
     "start_time": "2023-09-14T04:39:13.043388Z"
    }
   },
   "id": "46f714d7fd383ced"
  },
  {
   "cell_type": "code",
   "execution_count": 14,
   "outputs": [
    {
     "data": {
      "text/plain": "'93.04'"
     },
     "execution_count": 14,
     "metadata": {},
     "output_type": "execute_result"
    }
   ],
   "source": [
    "pct_auc = roc_auc_score(y_valid, y_hat) * 100\n",
    "\"{:0.2f}\".format(pct_auc)"
   ],
   "metadata": {
    "collapsed": false,
    "ExecuteTime": {
     "end_time": "2023-09-12T03:50:37.724588400Z",
     "start_time": "2023-09-12T03:50:37.659805900Z"
    }
   },
   "id": "91e5bd5ba316c0e5"
  }
 ],
 "metadata": {
  "kernelspec": {
   "display_name": "Python 3",
   "language": "python",
   "name": "python3"
  },
  "language_info": {
   "codemirror_mode": {
    "name": "ipython",
    "version": 2
   },
   "file_extension": ".py",
   "mimetype": "text/x-python",
   "name": "python",
   "nbconvert_exporter": "python",
   "pygments_lexer": "ipython2",
   "version": "2.7.6"
  }
 },
 "nbformat": 4,
 "nbformat_minor": 5
}
